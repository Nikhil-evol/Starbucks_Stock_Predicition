{
  "cells": [
    {
      "cell_type": "code",
      "execution_count": 124,
      "id": "ab895289-2525-4c76-8b67-f2327169f82c",
      "metadata": {
        "id": "ab895289-2525-4c76-8b67-f2327169f82c"
      },
      "outputs": [],
      "source": [
        "import tensorflow as tf\n",
        "import pandas as pd\n",
        "import matplotlib.pyplot as plt\n",
        "import numpy as np"
      ]
    },
    {
      "cell_type": "markdown",
      "id": "30f88a02-03d1-4a5f-ad31-fbed2ccb601a",
      "metadata": {
        "id": "30f88a02-03d1-4a5f-ad31-fbed2ccb601a"
      },
      "source": [
        "## Load Data"
      ]
    },
    {
      "cell_type": "code",
      "execution_count": 125,
      "id": "fb198e8d-0de0-486b-896d-9dd37e3f7a68",
      "metadata": {
        "id": "fb198e8d-0de0-486b-896d-9dd37e3f7a68"
      },
      "outputs": [],
      "source": [
        "df = pd.read_csv('Starbucks Dataset.csv')"
      ]
    },
    {
      "cell_type": "code",
      "execution_count": 126,
      "id": "f9743e48-4d92-4f23-9426-73e435a547b0",
      "metadata": {
        "colab": {
          "base_uri": "https://localhost:8080/",
          "height": 206
        },
        "id": "f9743e48-4d92-4f23-9426-73e435a547b0",
        "outputId": "9ce1df72-90e4-453c-b047-e52aacc9a391"
      },
      "outputs": [
        {
          "output_type": "execute_result",
          "data": {
            "text/plain": [
              "         Date      Open      High       Low     Close  Adj Close     Volume\n",
              "0  1992-06-26  0.328125  0.347656  0.320313  0.335938   0.260703  224358400\n",
              "1  1992-06-29  0.339844  0.367188  0.332031  0.359375   0.278891   58732800\n",
              "2  1992-06-30  0.367188  0.371094  0.343750  0.347656   0.269797   34777600\n",
              "3  1992-07-01  0.351563  0.359375  0.339844  0.355469   0.275860   18316800\n",
              "4  1992-07-02  0.359375  0.359375  0.347656  0.355469   0.275860   13996800"
            ],
            "text/html": [
              "\n",
              "  <div id=\"df-64599f7d-f344-471c-84b8-fb1b135e68e4\" class=\"colab-df-container\">\n",
              "    <div>\n",
              "<style scoped>\n",
              "    .dataframe tbody tr th:only-of-type {\n",
              "        vertical-align: middle;\n",
              "    }\n",
              "\n",
              "    .dataframe tbody tr th {\n",
              "        vertical-align: top;\n",
              "    }\n",
              "\n",
              "    .dataframe thead th {\n",
              "        text-align: right;\n",
              "    }\n",
              "</style>\n",
              "<table border=\"1\" class=\"dataframe\">\n",
              "  <thead>\n",
              "    <tr style=\"text-align: right;\">\n",
              "      <th></th>\n",
              "      <th>Date</th>\n",
              "      <th>Open</th>\n",
              "      <th>High</th>\n",
              "      <th>Low</th>\n",
              "      <th>Close</th>\n",
              "      <th>Adj Close</th>\n",
              "      <th>Volume</th>\n",
              "    </tr>\n",
              "  </thead>\n",
              "  <tbody>\n",
              "    <tr>\n",
              "      <th>0</th>\n",
              "      <td>1992-06-26</td>\n",
              "      <td>0.328125</td>\n",
              "      <td>0.347656</td>\n",
              "      <td>0.320313</td>\n",
              "      <td>0.335938</td>\n",
              "      <td>0.260703</td>\n",
              "      <td>224358400</td>\n",
              "    </tr>\n",
              "    <tr>\n",
              "      <th>1</th>\n",
              "      <td>1992-06-29</td>\n",
              "      <td>0.339844</td>\n",
              "      <td>0.367188</td>\n",
              "      <td>0.332031</td>\n",
              "      <td>0.359375</td>\n",
              "      <td>0.278891</td>\n",
              "      <td>58732800</td>\n",
              "    </tr>\n",
              "    <tr>\n",
              "      <th>2</th>\n",
              "      <td>1992-06-30</td>\n",
              "      <td>0.367188</td>\n",
              "      <td>0.371094</td>\n",
              "      <td>0.343750</td>\n",
              "      <td>0.347656</td>\n",
              "      <td>0.269797</td>\n",
              "      <td>34777600</td>\n",
              "    </tr>\n",
              "    <tr>\n",
              "      <th>3</th>\n",
              "      <td>1992-07-01</td>\n",
              "      <td>0.351563</td>\n",
              "      <td>0.359375</td>\n",
              "      <td>0.339844</td>\n",
              "      <td>0.355469</td>\n",
              "      <td>0.275860</td>\n",
              "      <td>18316800</td>\n",
              "    </tr>\n",
              "    <tr>\n",
              "      <th>4</th>\n",
              "      <td>1992-07-02</td>\n",
              "      <td>0.359375</td>\n",
              "      <td>0.359375</td>\n",
              "      <td>0.347656</td>\n",
              "      <td>0.355469</td>\n",
              "      <td>0.275860</td>\n",
              "      <td>13996800</td>\n",
              "    </tr>\n",
              "  </tbody>\n",
              "</table>\n",
              "</div>\n",
              "    <div class=\"colab-df-buttons\">\n",
              "\n",
              "  <div class=\"colab-df-container\">\n",
              "    <button class=\"colab-df-convert\" onclick=\"convertToInteractive('df-64599f7d-f344-471c-84b8-fb1b135e68e4')\"\n",
              "            title=\"Convert this dataframe to an interactive table.\"\n",
              "            style=\"display:none;\">\n",
              "\n",
              "  <svg xmlns=\"http://www.w3.org/2000/svg\" height=\"24px\" viewBox=\"0 -960 960 960\">\n",
              "    <path d=\"M120-120v-720h720v720H120Zm60-500h600v-160H180v160Zm220 220h160v-160H400v160Zm0 220h160v-160H400v160ZM180-400h160v-160H180v160Zm440 0h160v-160H620v160ZM180-180h160v-160H180v160Zm440 0h160v-160H620v160Z\"/>\n",
              "  </svg>\n",
              "    </button>\n",
              "\n",
              "  <style>\n",
              "    .colab-df-container {\n",
              "      display:flex;\n",
              "      gap: 12px;\n",
              "    }\n",
              "\n",
              "    .colab-df-convert {\n",
              "      background-color: #E8F0FE;\n",
              "      border: none;\n",
              "      border-radius: 50%;\n",
              "      cursor: pointer;\n",
              "      display: none;\n",
              "      fill: #1967D2;\n",
              "      height: 32px;\n",
              "      padding: 0 0 0 0;\n",
              "      width: 32px;\n",
              "    }\n",
              "\n",
              "    .colab-df-convert:hover {\n",
              "      background-color: #E2EBFA;\n",
              "      box-shadow: 0px 1px 2px rgba(60, 64, 67, 0.3), 0px 1px 3px 1px rgba(60, 64, 67, 0.15);\n",
              "      fill: #174EA6;\n",
              "    }\n",
              "\n",
              "    .colab-df-buttons div {\n",
              "      margin-bottom: 4px;\n",
              "    }\n",
              "\n",
              "    [theme=dark] .colab-df-convert {\n",
              "      background-color: #3B4455;\n",
              "      fill: #D2E3FC;\n",
              "    }\n",
              "\n",
              "    [theme=dark] .colab-df-convert:hover {\n",
              "      background-color: #434B5C;\n",
              "      box-shadow: 0px 1px 3px 1px rgba(0, 0, 0, 0.15);\n",
              "      filter: drop-shadow(0px 1px 2px rgba(0, 0, 0, 0.3));\n",
              "      fill: #FFFFFF;\n",
              "    }\n",
              "  </style>\n",
              "\n",
              "    <script>\n",
              "      const buttonEl =\n",
              "        document.querySelector('#df-64599f7d-f344-471c-84b8-fb1b135e68e4 button.colab-df-convert');\n",
              "      buttonEl.style.display =\n",
              "        google.colab.kernel.accessAllowed ? 'block' : 'none';\n",
              "\n",
              "      async function convertToInteractive(key) {\n",
              "        const element = document.querySelector('#df-64599f7d-f344-471c-84b8-fb1b135e68e4');\n",
              "        const dataTable =\n",
              "          await google.colab.kernel.invokeFunction('convertToInteractive',\n",
              "                                                    [key], {});\n",
              "        if (!dataTable) return;\n",
              "\n",
              "        const docLinkHtml = 'Like what you see? Visit the ' +\n",
              "          '<a target=\"_blank\" href=https://colab.research.google.com/notebooks/data_table.ipynb>data table notebook</a>'\n",
              "          + ' to learn more about interactive tables.';\n",
              "        element.innerHTML = '';\n",
              "        dataTable['output_type'] = 'display_data';\n",
              "        await google.colab.output.renderOutput(dataTable, element);\n",
              "        const docLink = document.createElement('div');\n",
              "        docLink.innerHTML = docLinkHtml;\n",
              "        element.appendChild(docLink);\n",
              "      }\n",
              "    </script>\n",
              "  </div>\n",
              "\n",
              "\n",
              "    <div id=\"df-5a0885d2-763f-427c-bd33-46fa94205375\">\n",
              "      <button class=\"colab-df-quickchart\" onclick=\"quickchart('df-5a0885d2-763f-427c-bd33-46fa94205375')\"\n",
              "                title=\"Suggest charts\"\n",
              "                style=\"display:none;\">\n",
              "\n",
              "<svg xmlns=\"http://www.w3.org/2000/svg\" height=\"24px\"viewBox=\"0 0 24 24\"\n",
              "     width=\"24px\">\n",
              "    <g>\n",
              "        <path d=\"M19 3H5c-1.1 0-2 .9-2 2v14c0 1.1.9 2 2 2h14c1.1 0 2-.9 2-2V5c0-1.1-.9-2-2-2zM9 17H7v-7h2v7zm4 0h-2V7h2v10zm4 0h-2v-4h2v4z\"/>\n",
              "    </g>\n",
              "</svg>\n",
              "      </button>\n",
              "\n",
              "<style>\n",
              "  .colab-df-quickchart {\n",
              "      --bg-color: #E8F0FE;\n",
              "      --fill-color: #1967D2;\n",
              "      --hover-bg-color: #E2EBFA;\n",
              "      --hover-fill-color: #174EA6;\n",
              "      --disabled-fill-color: #AAA;\n",
              "      --disabled-bg-color: #DDD;\n",
              "  }\n",
              "\n",
              "  [theme=dark] .colab-df-quickchart {\n",
              "      --bg-color: #3B4455;\n",
              "      --fill-color: #D2E3FC;\n",
              "      --hover-bg-color: #434B5C;\n",
              "      --hover-fill-color: #FFFFFF;\n",
              "      --disabled-bg-color: #3B4455;\n",
              "      --disabled-fill-color: #666;\n",
              "  }\n",
              "\n",
              "  .colab-df-quickchart {\n",
              "    background-color: var(--bg-color);\n",
              "    border: none;\n",
              "    border-radius: 50%;\n",
              "    cursor: pointer;\n",
              "    display: none;\n",
              "    fill: var(--fill-color);\n",
              "    height: 32px;\n",
              "    padding: 0;\n",
              "    width: 32px;\n",
              "  }\n",
              "\n",
              "  .colab-df-quickchart:hover {\n",
              "    background-color: var(--hover-bg-color);\n",
              "    box-shadow: 0 1px 2px rgba(60, 64, 67, 0.3), 0 1px 3px 1px rgba(60, 64, 67, 0.15);\n",
              "    fill: var(--button-hover-fill-color);\n",
              "  }\n",
              "\n",
              "  .colab-df-quickchart-complete:disabled,\n",
              "  .colab-df-quickchart-complete:disabled:hover {\n",
              "    background-color: var(--disabled-bg-color);\n",
              "    fill: var(--disabled-fill-color);\n",
              "    box-shadow: none;\n",
              "  }\n",
              "\n",
              "  .colab-df-spinner {\n",
              "    border: 2px solid var(--fill-color);\n",
              "    border-color: transparent;\n",
              "    border-bottom-color: var(--fill-color);\n",
              "    animation:\n",
              "      spin 1s steps(1) infinite;\n",
              "  }\n",
              "\n",
              "  @keyframes spin {\n",
              "    0% {\n",
              "      border-color: transparent;\n",
              "      border-bottom-color: var(--fill-color);\n",
              "      border-left-color: var(--fill-color);\n",
              "    }\n",
              "    20% {\n",
              "      border-color: transparent;\n",
              "      border-left-color: var(--fill-color);\n",
              "      border-top-color: var(--fill-color);\n",
              "    }\n",
              "    30% {\n",
              "      border-color: transparent;\n",
              "      border-left-color: var(--fill-color);\n",
              "      border-top-color: var(--fill-color);\n",
              "      border-right-color: var(--fill-color);\n",
              "    }\n",
              "    40% {\n",
              "      border-color: transparent;\n",
              "      border-right-color: var(--fill-color);\n",
              "      border-top-color: var(--fill-color);\n",
              "    }\n",
              "    60% {\n",
              "      border-color: transparent;\n",
              "      border-right-color: var(--fill-color);\n",
              "    }\n",
              "    80% {\n",
              "      border-color: transparent;\n",
              "      border-right-color: var(--fill-color);\n",
              "      border-bottom-color: var(--fill-color);\n",
              "    }\n",
              "    90% {\n",
              "      border-color: transparent;\n",
              "      border-bottom-color: var(--fill-color);\n",
              "    }\n",
              "  }\n",
              "</style>\n",
              "\n",
              "      <script>\n",
              "        async function quickchart(key) {\n",
              "          const quickchartButtonEl =\n",
              "            document.querySelector('#' + key + ' button');\n",
              "          quickchartButtonEl.disabled = true;  // To prevent multiple clicks.\n",
              "          quickchartButtonEl.classList.add('colab-df-spinner');\n",
              "          try {\n",
              "            const charts = await google.colab.kernel.invokeFunction(\n",
              "                'suggestCharts', [key], {});\n",
              "          } catch (error) {\n",
              "            console.error('Error during call to suggestCharts:', error);\n",
              "          }\n",
              "          quickchartButtonEl.classList.remove('colab-df-spinner');\n",
              "          quickchartButtonEl.classList.add('colab-df-quickchart-complete');\n",
              "        }\n",
              "        (() => {\n",
              "          let quickchartButtonEl =\n",
              "            document.querySelector('#df-5a0885d2-763f-427c-bd33-46fa94205375 button');\n",
              "          quickchartButtonEl.style.display =\n",
              "            google.colab.kernel.accessAllowed ? 'block' : 'none';\n",
              "        })();\n",
              "      </script>\n",
              "    </div>\n",
              "\n",
              "    </div>\n",
              "  </div>\n"
            ],
            "application/vnd.google.colaboratory.intrinsic+json": {
              "type": "dataframe",
              "variable_name": "df",
              "summary": "{\n  \"name\": \"df\",\n  \"rows\": 8036,\n  \"fields\": [\n    {\n      \"column\": \"Date\",\n      \"properties\": {\n        \"dtype\": \"object\",\n        \"num_unique_values\": 8036,\n        \"samples\": [\n          \"2018-10-31\",\n          \"2018-10-24\",\n          \"2021-07-30\"\n        ],\n        \"semantic_type\": \"\",\n        \"description\": \"\"\n      }\n    },\n    {\n      \"column\": \"Open\",\n      \"properties\": {\n        \"dtype\": \"number\",\n        \"std\": 33.615576874486756,\n        \"min\": 0.328125,\n        \"max\": 126.080002,\n        \"num_unique_values\": 5300,\n        \"samples\": [\n          74.940002,\n          45.985001,\n          4.765625\n        ],\n        \"semantic_type\": \"\",\n        \"description\": \"\"\n      }\n    },\n    {\n      \"column\": \"High\",\n      \"properties\": {\n        \"dtype\": \"number\",\n        \"std\": 33.90661318522459,\n        \"min\": 0.347656,\n        \"max\": 126.32,\n        \"num_unique_values\": 5245,\n        \"samples\": [\n          15.035,\n          58.540001,\n          5.6975\n        ],\n        \"semantic_type\": \"\",\n        \"description\": \"\"\n      }\n    },\n    {\n      \"column\": \"Low\",\n      \"properties\": {\n        \"dtype\": \"number\",\n        \"std\": 33.3145690722344,\n        \"min\": 0.320313,\n        \"max\": 124.809998,\n        \"num_unique_values\": 5223,\n        \"samples\": [\n          2.8125,\n          14.01,\n          0.386719\n        ],\n        \"semantic_type\": \"\",\n        \"description\": \"\"\n      }\n    },\n    {\n      \"column\": \"Close\",\n      \"properties\": {\n        \"dtype\": \"number\",\n        \"std\": 33.61591125518709,\n        \"min\": 0.335938,\n        \"max\": 126.059998,\n        \"num_unique_values\": 5440,\n        \"samples\": [\n          5.22,\n          111.339996,\n          1.800781\n        ],\n        \"semantic_type\": \"\",\n        \"description\": \"\"\n      }\n    },\n    {\n      \"column\": \"Adj Close\",\n      \"properties\": {\n        \"dtype\": \"number\",\n        \"std\": 31.728090344537446,\n        \"min\": 0.260703,\n        \"max\": 118.010414,\n        \"num_unique_values\": 6025,\n        \"samples\": [\n          46.650635,\n          4.458384,\n          9.068093\n        ],\n        \"semantic_type\": \"\",\n        \"description\": \"\"\n      }\n    },\n    {\n      \"column\": \"Volume\",\n      \"properties\": {\n        \"dtype\": \"number\",\n        \"std\": 13400210,\n        \"min\": 1504000,\n        \"max\": 585508800,\n        \"num_unique_values\": 7700,\n        \"samples\": [\n          24541400,\n          9090200,\n          5647500\n        ],\n        \"semantic_type\": \"\",\n        \"description\": \"\"\n      }\n    }\n  ]\n}"
            }
          },
          "metadata": {},
          "execution_count": 126
        }
      ],
      "source": [
        "df.head()"
      ]
    },
    {
      "cell_type": "markdown",
      "id": "0b429322-7b35-4e29-afd7-a8feeefe5f94",
      "metadata": {
        "id": "0b429322-7b35-4e29-afd7-a8feeefe5f94"
      },
      "source": [
        "## Exploring and vsualizing the Data"
      ]
    },
    {
      "cell_type": "code",
      "execution_count": 127,
      "id": "dbc023f4-e245-4125-95f8-4358975f40f4",
      "metadata": {
        "colab": {
          "base_uri": "https://localhost:8080/",
          "height": 206
        },
        "id": "dbc023f4-e245-4125-95f8-4358975f40f4",
        "outputId": "ea66730d-d4f9-48e2-a067-3f20ac06d0bd"
      },
      "outputs": [
        {
          "output_type": "execute_result",
          "data": {
            "text/plain": [
              "            Date       Open       High        Low      Close  Adj Close  \\\n",
              "8031  2024-05-17  75.269997  78.000000  74.919998  77.849998  77.849998   \n",
              "8032  2024-05-20  77.680000  78.320000  76.709999  77.540001  77.540001   \n",
              "8033  2024-05-21  77.559998  78.220001  77.500000  77.720001  77.720001   \n",
              "8034  2024-05-22  77.699997  81.019997  77.440002  80.720001  80.720001   \n",
              "8035  2024-05-23  80.099998  80.699997  79.169998  79.260002  79.260002   \n",
              "\n",
              "        Volume  \n",
              "8031  14436500  \n",
              "8032  11183800  \n",
              "8033   8916600  \n",
              "8034  22063400  \n",
              "8035   4651418  "
            ],
            "text/html": [
              "\n",
              "  <div id=\"df-fee0f366-9860-4dc2-8d78-31e5d3ee9fac\" class=\"colab-df-container\">\n",
              "    <div>\n",
              "<style scoped>\n",
              "    .dataframe tbody tr th:only-of-type {\n",
              "        vertical-align: middle;\n",
              "    }\n",
              "\n",
              "    .dataframe tbody tr th {\n",
              "        vertical-align: top;\n",
              "    }\n",
              "\n",
              "    .dataframe thead th {\n",
              "        text-align: right;\n",
              "    }\n",
              "</style>\n",
              "<table border=\"1\" class=\"dataframe\">\n",
              "  <thead>\n",
              "    <tr style=\"text-align: right;\">\n",
              "      <th></th>\n",
              "      <th>Date</th>\n",
              "      <th>Open</th>\n",
              "      <th>High</th>\n",
              "      <th>Low</th>\n",
              "      <th>Close</th>\n",
              "      <th>Adj Close</th>\n",
              "      <th>Volume</th>\n",
              "    </tr>\n",
              "  </thead>\n",
              "  <tbody>\n",
              "    <tr>\n",
              "      <th>8031</th>\n",
              "      <td>2024-05-17</td>\n",
              "      <td>75.269997</td>\n",
              "      <td>78.000000</td>\n",
              "      <td>74.919998</td>\n",
              "      <td>77.849998</td>\n",
              "      <td>77.849998</td>\n",
              "      <td>14436500</td>\n",
              "    </tr>\n",
              "    <tr>\n",
              "      <th>8032</th>\n",
              "      <td>2024-05-20</td>\n",
              "      <td>77.680000</td>\n",
              "      <td>78.320000</td>\n",
              "      <td>76.709999</td>\n",
              "      <td>77.540001</td>\n",
              "      <td>77.540001</td>\n",
              "      <td>11183800</td>\n",
              "    </tr>\n",
              "    <tr>\n",
              "      <th>8033</th>\n",
              "      <td>2024-05-21</td>\n",
              "      <td>77.559998</td>\n",
              "      <td>78.220001</td>\n",
              "      <td>77.500000</td>\n",
              "      <td>77.720001</td>\n",
              "      <td>77.720001</td>\n",
              "      <td>8916600</td>\n",
              "    </tr>\n",
              "    <tr>\n",
              "      <th>8034</th>\n",
              "      <td>2024-05-22</td>\n",
              "      <td>77.699997</td>\n",
              "      <td>81.019997</td>\n",
              "      <td>77.440002</td>\n",
              "      <td>80.720001</td>\n",
              "      <td>80.720001</td>\n",
              "      <td>22063400</td>\n",
              "    </tr>\n",
              "    <tr>\n",
              "      <th>8035</th>\n",
              "      <td>2024-05-23</td>\n",
              "      <td>80.099998</td>\n",
              "      <td>80.699997</td>\n",
              "      <td>79.169998</td>\n",
              "      <td>79.260002</td>\n",
              "      <td>79.260002</td>\n",
              "      <td>4651418</td>\n",
              "    </tr>\n",
              "  </tbody>\n",
              "</table>\n",
              "</div>\n",
              "    <div class=\"colab-df-buttons\">\n",
              "\n",
              "  <div class=\"colab-df-container\">\n",
              "    <button class=\"colab-df-convert\" onclick=\"convertToInteractive('df-fee0f366-9860-4dc2-8d78-31e5d3ee9fac')\"\n",
              "            title=\"Convert this dataframe to an interactive table.\"\n",
              "            style=\"display:none;\">\n",
              "\n",
              "  <svg xmlns=\"http://www.w3.org/2000/svg\" height=\"24px\" viewBox=\"0 -960 960 960\">\n",
              "    <path d=\"M120-120v-720h720v720H120Zm60-500h600v-160H180v160Zm220 220h160v-160H400v160Zm0 220h160v-160H400v160ZM180-400h160v-160H180v160Zm440 0h160v-160H620v160ZM180-180h160v-160H180v160Zm440 0h160v-160H620v160Z\"/>\n",
              "  </svg>\n",
              "    </button>\n",
              "\n",
              "  <style>\n",
              "    .colab-df-container {\n",
              "      display:flex;\n",
              "      gap: 12px;\n",
              "    }\n",
              "\n",
              "    .colab-df-convert {\n",
              "      background-color: #E8F0FE;\n",
              "      border: none;\n",
              "      border-radius: 50%;\n",
              "      cursor: pointer;\n",
              "      display: none;\n",
              "      fill: #1967D2;\n",
              "      height: 32px;\n",
              "      padding: 0 0 0 0;\n",
              "      width: 32px;\n",
              "    }\n",
              "\n",
              "    .colab-df-convert:hover {\n",
              "      background-color: #E2EBFA;\n",
              "      box-shadow: 0px 1px 2px rgba(60, 64, 67, 0.3), 0px 1px 3px 1px rgba(60, 64, 67, 0.15);\n",
              "      fill: #174EA6;\n",
              "    }\n",
              "\n",
              "    .colab-df-buttons div {\n",
              "      margin-bottom: 4px;\n",
              "    }\n",
              "\n",
              "    [theme=dark] .colab-df-convert {\n",
              "      background-color: #3B4455;\n",
              "      fill: #D2E3FC;\n",
              "    }\n",
              "\n",
              "    [theme=dark] .colab-df-convert:hover {\n",
              "      background-color: #434B5C;\n",
              "      box-shadow: 0px 1px 3px 1px rgba(0, 0, 0, 0.15);\n",
              "      filter: drop-shadow(0px 1px 2px rgba(0, 0, 0, 0.3));\n",
              "      fill: #FFFFFF;\n",
              "    }\n",
              "  </style>\n",
              "\n",
              "    <script>\n",
              "      const buttonEl =\n",
              "        document.querySelector('#df-fee0f366-9860-4dc2-8d78-31e5d3ee9fac button.colab-df-convert');\n",
              "      buttonEl.style.display =\n",
              "        google.colab.kernel.accessAllowed ? 'block' : 'none';\n",
              "\n",
              "      async function convertToInteractive(key) {\n",
              "        const element = document.querySelector('#df-fee0f366-9860-4dc2-8d78-31e5d3ee9fac');\n",
              "        const dataTable =\n",
              "          await google.colab.kernel.invokeFunction('convertToInteractive',\n",
              "                                                    [key], {});\n",
              "        if (!dataTable) return;\n",
              "\n",
              "        const docLinkHtml = 'Like what you see? Visit the ' +\n",
              "          '<a target=\"_blank\" href=https://colab.research.google.com/notebooks/data_table.ipynb>data table notebook</a>'\n",
              "          + ' to learn more about interactive tables.';\n",
              "        element.innerHTML = '';\n",
              "        dataTable['output_type'] = 'display_data';\n",
              "        await google.colab.output.renderOutput(dataTable, element);\n",
              "        const docLink = document.createElement('div');\n",
              "        docLink.innerHTML = docLinkHtml;\n",
              "        element.appendChild(docLink);\n",
              "      }\n",
              "    </script>\n",
              "  </div>\n",
              "\n",
              "\n",
              "    <div id=\"df-54b3d8cc-1ccf-490a-bf10-338b82614c74\">\n",
              "      <button class=\"colab-df-quickchart\" onclick=\"quickchart('df-54b3d8cc-1ccf-490a-bf10-338b82614c74')\"\n",
              "                title=\"Suggest charts\"\n",
              "                style=\"display:none;\">\n",
              "\n",
              "<svg xmlns=\"http://www.w3.org/2000/svg\" height=\"24px\"viewBox=\"0 0 24 24\"\n",
              "     width=\"24px\">\n",
              "    <g>\n",
              "        <path d=\"M19 3H5c-1.1 0-2 .9-2 2v14c0 1.1.9 2 2 2h14c1.1 0 2-.9 2-2V5c0-1.1-.9-2-2-2zM9 17H7v-7h2v7zm4 0h-2V7h2v10zm4 0h-2v-4h2v4z\"/>\n",
              "    </g>\n",
              "</svg>\n",
              "      </button>\n",
              "\n",
              "<style>\n",
              "  .colab-df-quickchart {\n",
              "      --bg-color: #E8F0FE;\n",
              "      --fill-color: #1967D2;\n",
              "      --hover-bg-color: #E2EBFA;\n",
              "      --hover-fill-color: #174EA6;\n",
              "      --disabled-fill-color: #AAA;\n",
              "      --disabled-bg-color: #DDD;\n",
              "  }\n",
              "\n",
              "  [theme=dark] .colab-df-quickchart {\n",
              "      --bg-color: #3B4455;\n",
              "      --fill-color: #D2E3FC;\n",
              "      --hover-bg-color: #434B5C;\n",
              "      --hover-fill-color: #FFFFFF;\n",
              "      --disabled-bg-color: #3B4455;\n",
              "      --disabled-fill-color: #666;\n",
              "  }\n",
              "\n",
              "  .colab-df-quickchart {\n",
              "    background-color: var(--bg-color);\n",
              "    border: none;\n",
              "    border-radius: 50%;\n",
              "    cursor: pointer;\n",
              "    display: none;\n",
              "    fill: var(--fill-color);\n",
              "    height: 32px;\n",
              "    padding: 0;\n",
              "    width: 32px;\n",
              "  }\n",
              "\n",
              "  .colab-df-quickchart:hover {\n",
              "    background-color: var(--hover-bg-color);\n",
              "    box-shadow: 0 1px 2px rgba(60, 64, 67, 0.3), 0 1px 3px 1px rgba(60, 64, 67, 0.15);\n",
              "    fill: var(--button-hover-fill-color);\n",
              "  }\n",
              "\n",
              "  .colab-df-quickchart-complete:disabled,\n",
              "  .colab-df-quickchart-complete:disabled:hover {\n",
              "    background-color: var(--disabled-bg-color);\n",
              "    fill: var(--disabled-fill-color);\n",
              "    box-shadow: none;\n",
              "  }\n",
              "\n",
              "  .colab-df-spinner {\n",
              "    border: 2px solid var(--fill-color);\n",
              "    border-color: transparent;\n",
              "    border-bottom-color: var(--fill-color);\n",
              "    animation:\n",
              "      spin 1s steps(1) infinite;\n",
              "  }\n",
              "\n",
              "  @keyframes spin {\n",
              "    0% {\n",
              "      border-color: transparent;\n",
              "      border-bottom-color: var(--fill-color);\n",
              "      border-left-color: var(--fill-color);\n",
              "    }\n",
              "    20% {\n",
              "      border-color: transparent;\n",
              "      border-left-color: var(--fill-color);\n",
              "      border-top-color: var(--fill-color);\n",
              "    }\n",
              "    30% {\n",
              "      border-color: transparent;\n",
              "      border-left-color: var(--fill-color);\n",
              "      border-top-color: var(--fill-color);\n",
              "      border-right-color: var(--fill-color);\n",
              "    }\n",
              "    40% {\n",
              "      border-color: transparent;\n",
              "      border-right-color: var(--fill-color);\n",
              "      border-top-color: var(--fill-color);\n",
              "    }\n",
              "    60% {\n",
              "      border-color: transparent;\n",
              "      border-right-color: var(--fill-color);\n",
              "    }\n",
              "    80% {\n",
              "      border-color: transparent;\n",
              "      border-right-color: var(--fill-color);\n",
              "      border-bottom-color: var(--fill-color);\n",
              "    }\n",
              "    90% {\n",
              "      border-color: transparent;\n",
              "      border-bottom-color: var(--fill-color);\n",
              "    }\n",
              "  }\n",
              "</style>\n",
              "\n",
              "      <script>\n",
              "        async function quickchart(key) {\n",
              "          const quickchartButtonEl =\n",
              "            document.querySelector('#' + key + ' button');\n",
              "          quickchartButtonEl.disabled = true;  // To prevent multiple clicks.\n",
              "          quickchartButtonEl.classList.add('colab-df-spinner');\n",
              "          try {\n",
              "            const charts = await google.colab.kernel.invokeFunction(\n",
              "                'suggestCharts', [key], {});\n",
              "          } catch (error) {\n",
              "            console.error('Error during call to suggestCharts:', error);\n",
              "          }\n",
              "          quickchartButtonEl.classList.remove('colab-df-spinner');\n",
              "          quickchartButtonEl.classList.add('colab-df-quickchart-complete');\n",
              "        }\n",
              "        (() => {\n",
              "          let quickchartButtonEl =\n",
              "            document.querySelector('#df-54b3d8cc-1ccf-490a-bf10-338b82614c74 button');\n",
              "          quickchartButtonEl.style.display =\n",
              "            google.colab.kernel.accessAllowed ? 'block' : 'none';\n",
              "        })();\n",
              "      </script>\n",
              "    </div>\n",
              "\n",
              "    </div>\n",
              "  </div>\n"
            ],
            "application/vnd.google.colaboratory.intrinsic+json": {
              "type": "dataframe",
              "repr_error": "0"
            }
          },
          "metadata": {},
          "execution_count": 127
        }
      ],
      "source": [
        "df.tail()"
      ]
    },
    {
      "cell_type": "code",
      "execution_count": 128,
      "id": "7b703f25-939d-419b-b4f7-823210a58b1e",
      "metadata": {
        "colab": {
          "base_uri": "https://localhost:8080/"
        },
        "id": "7b703f25-939d-419b-b4f7-823210a58b1e",
        "outputId": "96273037-20f1-4132-ff7b-d14290cc5106"
      },
      "outputs": [
        {
          "output_type": "stream",
          "name": "stdout",
          "text": [
            "<class 'pandas.core.frame.DataFrame'>\n",
            "RangeIndex: 8036 entries, 0 to 8035\n",
            "Data columns (total 7 columns):\n",
            " #   Column     Non-Null Count  Dtype  \n",
            "---  ------     --------------  -----  \n",
            " 0   Date       8036 non-null   object \n",
            " 1   Open       8036 non-null   float64\n",
            " 2   High       8036 non-null   float64\n",
            " 3   Low        8036 non-null   float64\n",
            " 4   Close      8036 non-null   float64\n",
            " 5   Adj Close  8036 non-null   float64\n",
            " 6   Volume     8036 non-null   int64  \n",
            "dtypes: float64(5), int64(1), object(1)\n",
            "memory usage: 439.6+ KB\n"
          ]
        }
      ],
      "source": [
        "df.info()"
      ]
    },
    {
      "cell_type": "code",
      "execution_count": 129,
      "id": "3dd3d01d-2929-4c89-a801-3211cf4cff4a",
      "metadata": {
        "id": "3dd3d01d-2929-4c89-a801-3211cf4cff4a"
      },
      "outputs": [],
      "source": [
        "df['Date'] = pd.to_datetime(df['Date'])"
      ]
    },
    {
      "cell_type": "code",
      "execution_count": 130,
      "id": "e9317087-23dc-4bcd-a258-15c089c10828",
      "metadata": {
        "colab": {
          "base_uri": "https://localhost:8080/"
        },
        "id": "e9317087-23dc-4bcd-a258-15c089c10828",
        "outputId": "e9bd31b9-a637-411a-bb09-5d4da46ecd0c"
      },
      "outputs": [
        {
          "output_type": "execute_result",
          "data": {
            "text/plain": [
              "(8036, 7)"
            ]
          },
          "metadata": {},
          "execution_count": 130
        }
      ],
      "source": [
        "df.shape"
      ]
    },
    {
      "cell_type": "code",
      "execution_count": 131,
      "id": "3aedef64-79f2-4be3-97e7-45c2aad13d1f",
      "metadata": {
        "colab": {
          "base_uri": "https://localhost:8080/",
          "height": 452
        },
        "id": "3aedef64-79f2-4be3-97e7-45c2aad13d1f",
        "outputId": "7f0effca-9bb8-4e79-bf5e-d8d558809af5"
      },
      "outputs": [
        {
          "output_type": "display_data",
          "data": {
            "text/plain": [
              "<Figure size 640x480 with 1 Axes>"
            ],
            "image/png": "[encoded data removed]"
          },
          "metadata": {}
        }
      ],
      "source": [
        "# plot the close price of the stock\n",
        "df['Close'].plot(color='green', title='Starbucks Stock Close Price')\n",
        "plt.show();"
      ]
    },
    {
      "cell_type": "code",
      "execution_count": 132,
      "id": "3de15d09-45f1-4c36-9b0d-b29051f13af1",
      "metadata": {
        "colab": {
          "base_uri": "https://localhost:8080/",
          "height": 452
        },
        "id": "3de15d09-45f1-4c36-9b0d-b29051f13af1",
        "outputId": "b15b6334-cf6b-46c5-a2ce-6632d82c4bd6"
      },
      "outputs": [
        {
          "output_type": "display_data",
          "data": {
            "text/plain": [
              "<Figure size 640x480 with 1 Axes>"
            ],
            "image/png": "[encoded data removed]"
          },
          "metadata": {}
        }
      ],
      "source": [
        "# plot the close price of the stock\n",
        "df['Volume'].plot(color='blue', title='Starbucks Stock Volume Price')\n",
        "plt.show();"
      ]
    },
    {
      "cell_type": "code",
      "execution_count": 133,
      "id": "82f64731-5b85-480f-abbc-20570fee30c3",
      "metadata": {
        "colab": {
          "base_uri": "https://localhost:8080/"
        },
        "id": "82f64731-5b85-480f-abbc-20570fee30c3",
        "outputId": "5bc53029-f9a8-4745-81f8-5d908d417c0e"
      },
      "outputs": [
        {
          "output_type": "execute_result",
          "data": {
            "text/plain": [
              "array([ 0.335938,  0.359375,  0.347656, ..., 77.720001, 80.720001,\n",
              "       79.260002])"
            ]
          },
          "metadata": {},
          "execution_count": 133
        }
      ],
      "source": [
        "X = df['Close'].to_numpy()\n",
        "X"
      ]
    },
    {
      "cell_type": "code",
      "execution_count": 134,
      "id": "66c50c19-600e-46b9-beb3-66b4b600c874",
      "metadata": {
        "colab": {
          "base_uri": "https://localhost:8080/"
        },
        "id": "66c50c19-600e-46b9-beb3-66b4b600c874",
        "outputId": "9764b209-716e-489a-bafb-80f1c9b1ae40"
      },
      "outputs": [
        {
          "output_type": "execute_result",
          "data": {
            "text/plain": [
              "(8036,)"
            ]
          },
          "metadata": {},
          "execution_count": 134
        }
      ],
      "source": [
        "X.shape"
      ]
    },
    {
      "cell_type": "markdown",
      "id": "ada02c5a-97eb-431e-b401-24baf44a4537",
      "metadata": {
        "id": "ada02c5a-97eb-431e-b401-24baf44a4537"
      },
      "source": [
        "## MinMax Scaling the Data"
      ]
    },
    {
      "cell_type": "code",
      "execution_count": 135,
      "id": "1ac78f0d-eaba-48f0-87cc-60b9fb33df4d",
      "metadata": {
        "id": "1ac78f0d-eaba-48f0-87cc-60b9fb33df4d"
      },
      "outputs": [],
      "source": [
        "from sklearn.preprocessing import MinMaxScaler\n",
        "scaler = MinMaxScaler()\n",
        "X_scaled = scaler.fit_transform(X.reshape(-1, 1))"
      ]
    },
    {
      "cell_type": "code",
      "execution_count": 136,
      "id": "eb55129b-bee0-4968-87a1-ff5f68809a92",
      "metadata": {
        "colab": {
          "base_uri": "https://localhost:8080/"
        },
        "id": "eb55129b-bee0-4968-87a1-ff5f68809a92",
        "outputId": "d4df27b6-a84a-4691-d334-03941727121b"
      },
      "outputs": [
        {
          "output_type": "execute_result",
          "data": {
            "text/plain": [
              "array([[0.00000000e+00],\n",
              "       [1.86416188e-04],\n",
              "       [9.32041170e-05],\n",
              "       ...,\n",
              "       [6.15507191e-01],\n",
              "       [6.39368972e-01],\n",
              "       [6.27756246e-01]])"
            ]
          },
          "metadata": {},
          "execution_count": 136
        }
      ],
      "source": [
        "X_scaled"
      ]
    },
    {
      "cell_type": "code",
      "execution_count": 137,
      "id": "8a598d66-af5a-4d0d-9775-2b4a9885e09f",
      "metadata": {
        "colab": {
          "base_uri": "https://localhost:8080/"
        },
        "id": "8a598d66-af5a-4d0d-9775-2b4a9885e09f",
        "outputId": "2bdf2abd-59e7-4095-a9c6-b0e3d3f111ed"
      },
      "outputs": [
        {
          "output_type": "execute_result",
          "data": {
            "text/plain": [
              "(8036, 1)"
            ]
          },
          "metadata": {},
          "execution_count": 137
        }
      ],
      "source": [
        "X_scaled.shape"
      ]
    },
    {
      "cell_type": "markdown",
      "id": "62778899-09e3-45e4-96e9-0c08a72fa383",
      "metadata": {
        "id": "62778899-09e3-45e4-96e9-0c08a72fa383"
      },
      "source": [
        "## Splitting into Training and testing"
      ]
    },
    {
      "cell_type": "code",
      "execution_count": 138,
      "id": "9c63c5aa-eced-4f95-b50f-2ffa8b243a9f",
      "metadata": {
        "id": "9c63c5aa-eced-4f95-b50f-2ffa8b243a9f"
      },
      "outputs": [],
      "source": [
        "def make_train_test_split(train_size:float, data):\n",
        "    train_index = int(len(data) * train_size)\n",
        "    train = data[:train_index]\n",
        "    test = data[train_index:]\n",
        "    return train, test"
      ]
    },
    {
      "cell_type": "code",
      "execution_count": 139,
      "id": "99d26aeb-68db-48da-a1c5-f1e379d7a257",
      "metadata": {
        "id": "99d26aeb-68db-48da-a1c5-f1e379d7a257"
      },
      "outputs": [],
      "source": [
        "train_data, test_data = make_train_test_split(data=X_scaled, train_size=0.8)"
      ]
    },
    {
      "cell_type": "code",
      "execution_count": 140,
      "id": "17beab18-3750-40ad-a050-62fe3d32c184",
      "metadata": {
        "colab": {
          "base_uri": "https://localhost:8080/"
        },
        "id": "17beab18-3750-40ad-a050-62fe3d32c184",
        "outputId": "70059fd1-7c69-44e8-a0cd-efa2c07d9a0b"
      },
      "outputs": [
        {
          "output_type": "execute_result",
          "data": {
            "text/plain": [
              "((6428, 1), (1608, 1))"
            ]
          },
          "metadata": {},
          "execution_count": 140
        }
      ],
      "source": [
        "train_data.shape, test_data.shape"
      ]
    },
    {
      "cell_type": "code",
      "execution_count": 141,
      "id": "fec6a0c4-3056-4b85-8107-82041dc085b9",
      "metadata": {
        "colab": {
          "base_uri": "https://localhost:8080/",
          "height": 447
        },
        "id": "fec6a0c4-3056-4b85-8107-82041dc085b9",
        "outputId": "f732d404-580e-411e-cd62-3cfb1a09f0ee"
      },
      "outputs": [
        {
          "output_type": "execute_result",
          "data": {
            "text/plain": [
              "<matplotlib.legend.Legend at 0x7956c9e051f0>"
            ]
          },
          "metadata": {},
          "execution_count": 141
        },
        {
          "output_type": "display_data",
          "data": {
            "text/plain": [
              "<Figure size 640x480 with 1 Axes>"
            ],
            "image/png": "[encoded data removed]"
          },
          "metadata": {}
        }
      ],
      "source": [
        "plt.plot(df['Date'][:6428], train_data, label='Training Data')\n",
        "plt.plot(df['Date'][6428:], test_data, label='Testing Data')\n",
        "plt.legend()"
      ]
    },
    {
      "cell_type": "markdown",
      "id": "608bff99-bd71-4437-8d2d-27e82c0e6be5",
      "metadata": {
        "id": "608bff99-bd71-4437-8d2d-27e82c0e6be5"
      },
      "source": [
        "## Windowing our dataset"
      ]
    },
    {
      "cell_type": "code",
      "execution_count": 142,
      "id": "b460fa5c-0559-4871-8c0c-8d72c50cc47f",
      "metadata": {
        "id": "b460fa5c-0559-4871-8c0c-8d72c50cc47f"
      },
      "outputs": [],
      "source": [
        "def make_windowed_datasets(data, window_size, horizon_size):\n",
        "    X = []\n",
        "    y = []\n",
        "    for i in range(len(data)-(window_size + horizon_size)):\n",
        "        X.append(data[i:i+window_size, 0])\n",
        "        y.append(data[i+window_size, 0])\n",
        "    return np.array(X), np.array(y)"
      ]
    },
    {
      "cell_type": "code",
      "execution_count": 143,
      "id": "2d6cb7d9-a655-4a6a-87d1-88ac3c0d1fae",
      "metadata": {
        "id": "2d6cb7d9-a655-4a6a-87d1-88ac3c0d1fae"
      },
      "outputs": [],
      "source": [
        "X_train, y_train = make_windowed_datasets(train_data, window_size=7, horizon_size=1)\n",
        "X_test, y_test = make_windowed_datasets(test_data, window_size=7, horizon_size=1)"
      ]
    },
    {
      "cell_type": "code",
      "execution_count": 144,
      "id": "70c6b04d-4bd5-4aa6-a3ed-b99103c31192",
      "metadata": {
        "colab": {
          "base_uri": "https://localhost:8080/"
        },
        "id": "70c6b04d-4bd5-4aa6-a3ed-b99103c31192",
        "outputId": "a2505c65-1c3e-4cb2-e67a-bbf5714a934f"
      },
      "outputs": [
        {
          "output_type": "execute_result",
          "data": {
            "text/plain": [
              "((6420, 7), (6420,), (1600, 7), (1600,))"
            ]
          },
          "metadata": {},
          "execution_count": 144
        }
      ],
      "source": [
        "X_train.shape, y_train.shape, X_test.shape, y_test.shape"
      ]
    },
    {
      "cell_type": "code",
      "execution_count": 145,
      "id": "922b8285-ac03-4cd4-bd1b-fc97aee7ad1a",
      "metadata": {
        "colab": {
          "base_uri": "https://localhost:8080/"
        },
        "id": "922b8285-ac03-4cd4-bd1b-fc97aee7ad1a",
        "outputId": "92136f4d-c66a-4945-ac0e-ebba80a928a6"
      },
      "outputs": [
        {
          "output_type": "execute_result",
          "data": {
            "text/plain": [
              "array([0.00000000e+00, 1.86416188e-04, 9.32041170e-05, 1.55348149e-04,\n",
              "       1.55348149e-04, 1.55348149e-04, 1.55348149e-04])"
            ]
          },
          "metadata": {},
          "execution_count": 145
        }
      ],
      "source": [
        "X_train[0]"
      ]
    },
    {
      "cell_type": "code",
      "execution_count": 146,
      "id": "f554d447-b856-44c7-a61b-298d0c17286d",
      "metadata": {
        "colab": {
          "base_uri": "https://localhost:8080/"
        },
        "id": "f554d447-b856-44c7-a61b-298d0c17286d",
        "outputId": "bfa6f6de-a622-4609-9e21-2836c1426ee2"
      },
      "outputs": [
        {
          "output_type": "stream",
          "name": "stdout",
          "text": [
            "Input Day 1 : \n",
            " [[0.335938]\n",
            " [0.359375]\n",
            " [0.347656]\n",
            " [0.355469]\n",
            " [0.355469]\n",
            " [0.355469]\n",
            " [0.355469]]\n",
            "Output Day 1: \n",
            " [[0.347656]]\n"
          ]
        }
      ],
      "source": [
        "print(f'Input Day 1 : \\n {scaler.inverse_transform(X_train[0].reshape(-1, 1))}')\n",
        "print(f'Output Day 1: \\n {scaler.inverse_transform(y_train[0].reshape(-1, 1))}')"
      ]
    },
    {
      "cell_type": "code",
      "execution_count": 147,
      "id": "1e04b377-7e23-4894-bbee-0f98854db530",
      "metadata": {
        "id": "1e04b377-7e23-4894-bbee-0f98854db530"
      },
      "outputs": [],
      "source": [
        "# reshaping our X_train and X_test\n",
        "X_train = np.reshape(X_train, (X_train.shape[0], 1, X_train.shape[1]))\n",
        "X_test = np.reshape(X_test, (X_test.shape[0], 1, X_test.shape[1]))"
      ]
    },
    {
      "cell_type": "code",
      "execution_count": 148,
      "id": "60ab0063-522a-4c07-a6c8-14fb6a297083",
      "metadata": {
        "colab": {
          "base_uri": "https://localhost:8080/"
        },
        "id": "60ab0063-522a-4c07-a6c8-14fb6a297083",
        "outputId": "fd4ffcbc-7ada-4775-c9f2-5f517ccee4df"
      },
      "outputs": [
        {
          "output_type": "execute_result",
          "data": {
            "text/plain": [
              "((6420, 1, 7), (1600, 1, 7))"
            ]
          },
          "metadata": {},
          "execution_count": 148
        }
      ],
      "source": [
        "X_train.shape, X_test.shape"
      ]
    },
    {
      "cell_type": "markdown",
      "id": "816faf5c-8858-4160-9430-b04a17c17c2e",
      "metadata": {
        "id": "816faf5c-8858-4160-9430-b04a17c17c2e"
      },
      "source": [
        "## Modelling Experiments\n",
        "* Simple LSTM model\n",
        "* Complex LSTM model\n",
        "* CNN model"
      ]
    },
    {
      "cell_type": "code",
      "execution_count": 149,
      "id": "6f1d2d1f-ae9f-4839-864d-eb069fc19b8d",
      "metadata": {
        "id": "6f1d2d1f-ae9f-4839-864d-eb069fc19b8d"
      },
      "outputs": [],
      "source": [
        "import os\n",
        "\n",
        "# Create a function to implement a ModelCheckpoint callback with a specific filename\n",
        "def create_model_checkpoint(model_name, save_path=\"model_experiments\"):\n",
        "  return tf.keras.callbacks.ModelCheckpoint(filepath=os.path.join(save_path, model_name + '.keras'), # create filepath to save model\n",
        "                                            verbose=0, # only output a limited amount of text\n",
        "                                            save_best_only=True) # save only the best model to file"
      ]
    },
    {
      "cell_type": "code",
      "execution_count": 150,
      "id": "1b6012da-6028-4728-96ee-3ed1b3fa1951",
      "metadata": {
        "id": "1b6012da-6028-4728-96ee-3ed1b3fa1951"
      },
      "outputs": [],
      "source": [
        "import tensorflow as tf\n",
        "from tensorflow import keras\n",
        "from keras.models import Sequential\n",
        "from keras.layers import LSTM, Conv1D, MaxPooling1D, Flatten, Dense, Dropout"
      ]
    },
    {
      "cell_type": "code",
      "execution_count": 151,
      "id": "6a1cabb7-2fa8-4e87-8fd0-a162de49e8f0",
      "metadata": {
        "colab": {
          "base_uri": "https://localhost:8080/"
        },
        "id": "6a1cabb7-2fa8-4e87-8fd0-a162de49e8f0",
        "outputId": "a660d173-825c-4abc-9f69-8eaa4f5fc568"
      },
      "outputs": [
        {
          "output_type": "stream",
          "name": "stderr",
          "text": [
            "/usr/local/lib/python3.12/dist-packages/keras/src/layers/rnn/rnn.py:199: UserWarning: Do not pass an `input_shape`/`input_dim` argument to a layer. When using Sequential models, prefer using an `Input(shape)` object as the first layer in the model instead.\n",
            "  super().__init__(**kwargs)\n"
          ]
        }
      ],
      "source": [
        "model1 = Sequential()\n",
        "model1.add(LSTM(64, activation='relu', return_sequences=True, input_shape=(1, 7)))\n",
        "model1.add(LSTM(64, activation='relu'))\n",
        "\n",
        "model1.add(Dense(64, activation='relu'))\n",
        "model1.add(Dense(32, activation='relu'))\n",
        "model1.add(Dense(1, activation='linear'))\n",
        "\n",
        "# compiling our model\n",
        "model1.compile(\n",
        "    loss='mse',\n",
        "    optimizer=tf.keras.optimizers.Adam(),\n",
        "    metrics=['mse']\n",
        ")"
      ]
    },
    {
      "cell_type": "code",
      "execution_count": 152,
      "id": "9636f587-6d3d-4efc-98ae-c1e8811af964",
      "metadata": {
        "colab": {
          "base_uri": "https://localhost:8080/",
          "height": 289
        },
        "id": "9636f587-6d3d-4efc-98ae-c1e8811af964",
        "outputId": "3f9289f6-bc1f-44ed-d9eb-7327acda1a01"
      },
      "outputs": [
        {
          "output_type": "display_data",
          "data": {
            "text/plain": [
              "\u001b[1mModel: \"sequential_4\"\u001b[0m\n"
            ],
            "text/html": [
              "<pre style=\"white-space:pre;overflow-x:auto;line-height:normal;font-family:Menlo,'DejaVu Sans Mono',consolas,'Courier New',monospace\"><span style=\"font-weight: bold\">Model: \"sequential_4\"</span>\n",
              "</pre>\n"
            ]
          },
          "metadata": {}
        },
        {
          "output_type": "display_data",
          "data": {
            "text/plain": [
              "┏━━━━━━━━━━━━━━━━━━━━━━━━━━━━━━━━━┳━━━━━━━━━━━━━━━━━━━━━━━━┳━━━━━━━━━━━━━━━┓\n",
              "┃\u001b[1m \u001b[0m\u001b[1mLayer (type)                   \u001b[0m\u001b[1m \u001b[0m┃\u001b[1m \u001b[0m\u001b[1mOutput Shape          \u001b[0m\u001b[1m \u001b[0m┃\u001b[1m \u001b[0m\u001b[1m      Param #\u001b[0m\u001b[1m \u001b[0m┃\n",
              "┡━━━━━━━━━━━━━━━━━━━━━━━━━━━━━━━━━╇━━━━━━━━━━━━━━━━━━━━━━━━╇━━━━━━━━━━━━━━━┩\n",
              "│ lstm_8 (\u001b[38;5;33mLSTM\u001b[0m)                   │ (\u001b[38;5;45mNone\u001b[0m, \u001b[38;5;34m1\u001b[0m, \u001b[38;5;34m64\u001b[0m)          │        \u001b[38;5;34m18,432\u001b[0m │\n",
              "├─────────────────────────────────┼────────────────────────┼───────────────┤\n",
              "│ lstm_9 (\u001b[38;5;33mLSTM\u001b[0m)                   │ (\u001b[38;5;45mNone\u001b[0m, \u001b[38;5;34m64\u001b[0m)             │        \u001b[38;5;34m33,024\u001b[0m │\n",
              "├─────────────────────────────────┼────────────────────────┼───────────────┤\n",
              "│ dense_12 (\u001b[38;5;33mDense\u001b[0m)                │ (\u001b[38;5;45mNone\u001b[0m, \u001b[38;5;34m64\u001b[0m)             │         \u001b[38;5;34m4,160\u001b[0m │\n",
              "├─────────────────────────────────┼────────────────────────┼───────────────┤\n",
              "│ dense_13 (\u001b[38;5;33mDense\u001b[0m)                │ (\u001b[38;5;45mNone\u001b[0m, \u001b[38;5;34m32\u001b[0m)             │         \u001b[38;5;34m2,080\u001b[0m │\n",
              "├─────────────────────────────────┼────────────────────────┼───────────────┤\n",
              "│ dense_14 (\u001b[38;5;33mDense\u001b[0m)                │ (\u001b[38;5;45mNone\u001b[0m, \u001b[38;5;34m1\u001b[0m)              │            \u001b[38;5;34m33\u001b[0m │\n",
              "└─────────────────────────────────┴────────────────────────┴───────────────┘\n"
            ],
            "text/html": [
              "<pre style=\"white-space:pre;overflow-x:auto;line-height:normal;font-family:Menlo,'DejaVu Sans Mono',consolas,'Courier New',monospace\">┏━━━━━━━━━━━━━━━━━━━━━━━━━━━━━━━━━┳━━━━━━━━━━━━━━━━━━━━━━━━┳━━━━━━━━━━━━━━━┓\n",
              "┃<span style=\"font-weight: bold\"> Layer (type)                    </span>┃<span style=\"font-weight: bold\"> Output Shape           </span>┃<span style=\"font-weight: bold\">       Param # </span>┃\n",
              "┡━━━━━━━━━━━━━━━━━━━━━━━━━━━━━━━━━╇━━━━━━━━━━━━━━━━━━━━━━━━╇━━━━━━━━━━━━━━━┩\n",
              "│ lstm_8 (<span style=\"color: #0087ff; text-decoration-color: #0087ff\">LSTM</span>)                   │ (<span style=\"color: #00d7ff; text-decoration-color: #00d7ff\">None</span>, <span style=\"color: #00af00; text-decoration-color: #00af00\">1</span>, <span style=\"color: #00af00; text-decoration-color: #00af00\">64</span>)          │        <span style=\"color: #00af00; text-decoration-color: #00af00\">18,432</span> │\n",
              "├─────────────────────────────────┼────────────────────────┼───────────────┤\n",
              "│ lstm_9 (<span style=\"color: #0087ff; text-decoration-color: #0087ff\">LSTM</span>)                   │ (<span style=\"color: #00d7ff; text-decoration-color: #00d7ff\">None</span>, <span style=\"color: #00af00; text-decoration-color: #00af00\">64</span>)             │        <span style=\"color: #00af00; text-decoration-color: #00af00\">33,024</span> │\n",
              "├─────────────────────────────────┼────────────────────────┼───────────────┤\n",
              "│ dense_12 (<span style=\"color: #0087ff; text-decoration-color: #0087ff\">Dense</span>)                │ (<span style=\"color: #00d7ff; text-decoration-color: #00d7ff\">None</span>, <span style=\"color: #00af00; text-decoration-color: #00af00\">64</span>)             │         <span style=\"color: #00af00; text-decoration-color: #00af00\">4,160</span> │\n",
              "├─────────────────────────────────┼────────────────────────┼───────────────┤\n",
              "│ dense_13 (<span style=\"color: #0087ff; text-decoration-color: #0087ff\">Dense</span>)                │ (<span style=\"color: #00d7ff; text-decoration-color: #00d7ff\">None</span>, <span style=\"color: #00af00; text-decoration-color: #00af00\">32</span>)             │         <span style=\"color: #00af00; text-decoration-color: #00af00\">2,080</span> │\n",
              "├─────────────────────────────────┼────────────────────────┼───────────────┤\n",
              "│ dense_14 (<span style=\"color: #0087ff; text-decoration-color: #0087ff\">Dense</span>)                │ (<span style=\"color: #00d7ff; text-decoration-color: #00d7ff\">None</span>, <span style=\"color: #00af00; text-decoration-color: #00af00\">1</span>)              │            <span style=\"color: #00af00; text-decoration-color: #00af00\">33</span> │\n",
              "└─────────────────────────────────┴────────────────────────┴───────────────┘\n",
              "</pre>\n"
            ]
          },
          "metadata": {}
        },
        {
          "output_type": "display_data",
          "data": {
            "text/plain": [
              "\u001b[1m Total params: \u001b[0m\u001b[38;5;34m57,729\u001b[0m (225.50 KB)\n"
            ],
            "text/html": [
              "<pre style=\"white-space:pre;overflow-x:auto;line-height:normal;font-family:Menlo,'DejaVu Sans Mono',consolas,'Courier New',monospace\"><span style=\"font-weight: bold\"> Total params: </span><span style=\"color: #00af00; text-decoration-color: #00af00\">57,729</span> (225.50 KB)\n",
              "</pre>\n"
            ]
          },
          "metadata": {}
        },
        {
          "output_type": "display_data",
          "data": {
            "text/plain": [
              "\u001b[1m Trainable params: \u001b[0m\u001b[38;5;34m57,729\u001b[0m (225.50 KB)\n"
            ],
            "text/html": [
              "<pre style=\"white-space:pre;overflow-x:auto;line-height:normal;font-family:Menlo,'DejaVu Sans Mono',consolas,'Courier New',monospace\"><span style=\"font-weight: bold\"> Trainable params: </span><span style=\"color: #00af00; text-decoration-color: #00af00\">57,729</span> (225.50 KB)\n",
              "</pre>\n"
            ]
          },
          "metadata": {}
        },
        {
          "output_type": "display_data",
          "data": {
            "text/plain": [
              "\u001b[1m Non-trainable params: \u001b[0m\u001b[38;5;34m0\u001b[0m (0.00 B)\n"
            ],
            "text/html": [
              "<pre style=\"white-space:pre;overflow-x:auto;line-height:normal;font-family:Menlo,'DejaVu Sans Mono',consolas,'Courier New',monospace\"><span style=\"font-weight: bold\"> Non-trainable params: </span><span style=\"color: #00af00; text-decoration-color: #00af00\">0</span> (0.00 B)\n",
              "</pre>\n"
            ]
          },
          "metadata": {}
        }
      ],
      "source": [
        "model1.summary()"
      ]
    },
    {
      "cell_type": "code",
      "source": [
        "history1 = model1.fit(X_train, y_train,\n",
        "                     epochs=70,\n",
        "                     validation_data=(X_test, y_test),\n",
        "                     callbacks=[create_model_checkpoint(model_name='Simple_LSTM_model')])"
      ],
      "metadata": {
        "colab": {
          "base_uri": "https://localhost:8080/"
        },
        "id": "WfzuPWdcxisO",
        "outputId": "5c889dd1-929c-4af5-ab6c-0ee83586da7c"
      },
      "id": "WfzuPWdcxisO",
      "execution_count": 153,
      "outputs": [
        {
          "output_type": "stream",
          "name": "stdout",
          "text": [
            "Epoch 1/70\n",
            "\u001b[1m201/201\u001b[0m \u001b[32m━━━━━━━━━━━━━━━━━━━━\u001b[0m\u001b[37m\u001b[0m \u001b[1m6s\u001b[0m 8ms/step - loss: 0.0125 - mse: 0.0125 - val_loss: 0.0050 - val_mse: 0.0050\n",
            "Epoch 2/70\n",
            "\u001b[1m201/201\u001b[0m \u001b[32m━━━━━━━━━━━━━━━━━━━━\u001b[0m\u001b[37m\u001b[0m \u001b[1m1s\u001b[0m 6ms/step - loss: 2.2780e-05 - mse: 2.2780e-05 - val_loss: 0.0033 - val_mse: 0.0033\n",
            "Epoch 3/70\n",
            "\u001b[1m201/201\u001b[0m \u001b[32m━━━━━━━━━━━━━━━━━━━━\u001b[0m\u001b[37m\u001b[0m \u001b[1m1s\u001b[0m 5ms/step - loss: 2.1278e-05 - mse: 2.1278e-05 - val_loss: 0.0036 - val_mse: 0.0036\n",
            "Epoch 4/70\n",
            "\u001b[1m201/201\u001b[0m \u001b[32m━━━━━━━━━━━━━━━━━━━━\u001b[0m\u001b[37m\u001b[0m \u001b[1m1s\u001b[0m 5ms/step - loss: 2.4647e-05 - mse: 2.4647e-05 - val_loss: 0.0030 - val_mse: 0.0030\n",
            "Epoch 5/70\n",
            "\u001b[1m201/201\u001b[0m \u001b[32m━━━━━━━━━━━━━━━━━━━━\u001b[0m\u001b[37m\u001b[0m \u001b[1m2s\u001b[0m 7ms/step - loss: 2.1022e-05 - mse: 2.1022e-05 - val_loss: 0.0025 - val_mse: 0.0025\n",
            "Epoch 6/70\n",
            "\u001b[1m201/201\u001b[0m \u001b[32m━━━━━━━━━━━━━━━━━━━━\u001b[0m\u001b[37m\u001b[0m \u001b[1m2s\u001b[0m 10ms/step - loss: 2.1497e-05 - mse: 2.1497e-05 - val_loss: 0.0018 - val_mse: 0.0018\n",
            "Epoch 7/70\n",
            "\u001b[1m201/201\u001b[0m \u001b[32m━━━━━━━━━━━━━━━━━━━━\u001b[0m\u001b[37m\u001b[0m \u001b[1m2s\u001b[0m 5ms/step - loss: 2.3387e-05 - mse: 2.3387e-05 - val_loss: 0.0016 - val_mse: 0.0016\n",
            "Epoch 8/70\n",
            "\u001b[1m201/201\u001b[0m \u001b[32m━━━━━━━━━━━━━━━━━━━━\u001b[0m\u001b[37m\u001b[0m \u001b[1m1s\u001b[0m 5ms/step - loss: 2.6736e-05 - mse: 2.6736e-05 - val_loss: 0.0018 - val_mse: 0.0018\n",
            "Epoch 9/70\n",
            "\u001b[1m201/201\u001b[0m \u001b[32m━━━━━━━━━━━━━━━━━━━━\u001b[0m\u001b[37m\u001b[0m \u001b[1m1s\u001b[0m 6ms/step - loss: 2.4038e-05 - mse: 2.4038e-05 - val_loss: 0.0014 - val_mse: 0.0014\n",
            "Epoch 10/70\n",
            "\u001b[1m201/201\u001b[0m \u001b[32m━━━━━━━━━━━━━━━━━━━━\u001b[0m\u001b[37m\u001b[0m \u001b[1m1s\u001b[0m 6ms/step - loss: 2.3003e-05 - mse: 2.3003e-05 - val_loss: 0.0011 - val_mse: 0.0011\n",
            "Epoch 11/70\n",
            "\u001b[1m201/201\u001b[0m \u001b[32m━━━━━━━━━━━━━━━━━━━━\u001b[0m\u001b[37m\u001b[0m \u001b[1m1s\u001b[0m 6ms/step - loss: 2.1599e-05 - mse: 2.1599e-05 - val_loss: 9.1469e-04 - val_mse: 9.1469e-04\n",
            "Epoch 12/70\n",
            "\u001b[1m201/201\u001b[0m \u001b[32m━━━━━━━━━━━━━━━━━━━━\u001b[0m\u001b[37m\u001b[0m \u001b[1m1s\u001b[0m 6ms/step - loss: 2.0393e-05 - mse: 2.0393e-05 - val_loss: 0.0014 - val_mse: 0.0014\n",
            "Epoch 13/70\n",
            "\u001b[1m201/201\u001b[0m \u001b[32m━━━━━━━━━━━━━━━━━━━━\u001b[0m\u001b[37m\u001b[0m \u001b[1m1s\u001b[0m 5ms/step - loss: 2.5983e-05 - mse: 2.5983e-05 - val_loss: 0.0014 - val_mse: 0.0014\n",
            "Epoch 14/70\n",
            "\u001b[1m201/201\u001b[0m \u001b[32m━━━━━━━━━━━━━━━━━━━━\u001b[0m\u001b[37m\u001b[0m \u001b[1m1s\u001b[0m 6ms/step - loss: 2.0573e-05 - mse: 2.0573e-05 - val_loss: 9.0563e-04 - val_mse: 9.0563e-04\n",
            "Epoch 15/70\n",
            "\u001b[1m201/201\u001b[0m \u001b[32m━━━━━━━━━━━━━━━━━━━━\u001b[0m\u001b[37m\u001b[0m \u001b[1m2s\u001b[0m 10ms/step - loss: 2.7926e-05 - mse: 2.7926e-05 - val_loss: 9.9519e-04 - val_mse: 9.9519e-04\n",
            "Epoch 16/70\n",
            "\u001b[1m201/201\u001b[0m \u001b[32m━━━━━━━━━━━━━━━━━━━━\u001b[0m\u001b[37m\u001b[0m \u001b[1m2s\u001b[0m 6ms/step - loss: 1.9384e-05 - mse: 1.9384e-05 - val_loss: 0.0015 - val_mse: 0.0015\n",
            "Epoch 17/70\n",
            "\u001b[1m201/201\u001b[0m \u001b[32m━━━━━━━━━━━━━━━━━━━━\u001b[0m\u001b[37m\u001b[0m \u001b[1m1s\u001b[0m 6ms/step - loss: 2.1344e-05 - mse: 2.1344e-05 - val_loss: 0.0012 - val_mse: 0.0012\n",
            "Epoch 18/70\n",
            "\u001b[1m201/201\u001b[0m \u001b[32m━━━━━━━━━━━━━━━━━━━━\u001b[0m\u001b[37m\u001b[0m \u001b[1m1s\u001b[0m 6ms/step - loss: 2.1579e-05 - mse: 2.1579e-05 - val_loss: 6.9181e-04 - val_mse: 6.9181e-04\n",
            "Epoch 19/70\n",
            "\u001b[1m201/201\u001b[0m \u001b[32m━━━━━━━━━━━━━━━━━━━━\u001b[0m\u001b[37m\u001b[0m \u001b[1m1s\u001b[0m 6ms/step - loss: 1.9658e-05 - mse: 1.9658e-05 - val_loss: 8.0059e-04 - val_mse: 8.0059e-04\n",
            "Epoch 20/70\n",
            "\u001b[1m201/201\u001b[0m \u001b[32m━━━━━━━━━━━━━━━━━━━━\u001b[0m\u001b[37m\u001b[0m \u001b[1m1s\u001b[0m 5ms/step - loss: 1.9955e-05 - mse: 1.9955e-05 - val_loss: 8.5847e-04 - val_mse: 8.5847e-04\n",
            "Epoch 21/70\n",
            "\u001b[1m201/201\u001b[0m \u001b[32m━━━━━━━━━━━━━━━━━━━━\u001b[0m\u001b[37m\u001b[0m \u001b[1m1s\u001b[0m 5ms/step - loss: 1.8633e-05 - mse: 1.8633e-05 - val_loss: 7.2491e-04 - val_mse: 7.2491e-04\n",
            "Epoch 22/70\n",
            "\u001b[1m201/201\u001b[0m \u001b[32m━━━━━━━━━━━━━━━━━━━━\u001b[0m\u001b[37m\u001b[0m \u001b[1m1s\u001b[0m 6ms/step - loss: 1.9363e-05 - mse: 1.9363e-05 - val_loss: 5.7294e-04 - val_mse: 5.7294e-04\n",
            "Epoch 23/70\n",
            "\u001b[1m201/201\u001b[0m \u001b[32m━━━━━━━━━━━━━━━━━━━━\u001b[0m\u001b[37m\u001b[0m \u001b[1m1s\u001b[0m 6ms/step - loss: 1.9222e-05 - mse: 1.9222e-05 - val_loss: 4.8968e-04 - val_mse: 4.8968e-04\n",
            "Epoch 24/70\n",
            "\u001b[1m201/201\u001b[0m \u001b[32m━━━━━━━━━━━━━━━━━━━━\u001b[0m\u001b[37m\u001b[0m \u001b[1m2s\u001b[0m 8ms/step - loss: 3.0207e-05 - mse: 3.0207e-05 - val_loss: 6.7254e-04 - val_mse: 6.7254e-04\n",
            "Epoch 25/70\n",
            "\u001b[1m201/201\u001b[0m \u001b[32m━━━━━━━━━━━━━━━━━━━━\u001b[0m\u001b[37m\u001b[0m \u001b[1m2s\u001b[0m 9ms/step - loss: 1.6996e-05 - mse: 1.6996e-05 - val_loss: 4.5268e-04 - val_mse: 4.5268e-04\n",
            "Epoch 26/70\n",
            "\u001b[1m201/201\u001b[0m \u001b[32m━━━━━━━━━━━━━━━━━━━━\u001b[0m\u001b[37m\u001b[0m \u001b[1m1s\u001b[0m 6ms/step - loss: 1.7672e-05 - mse: 1.7672e-05 - val_loss: 6.7459e-04 - val_mse: 6.7459e-04\n",
            "Epoch 27/70\n",
            "\u001b[1m201/201\u001b[0m \u001b[32m━━━━━━━━━━━━━━━━━━━━\u001b[0m\u001b[37m\u001b[0m \u001b[1m1s\u001b[0m 6ms/step - loss: 2.0349e-05 - mse: 2.0349e-05 - val_loss: 7.7812e-04 - val_mse: 7.7812e-04\n",
            "Epoch 28/70\n",
            "\u001b[1m201/201\u001b[0m \u001b[32m━━━━━━━━━━━━━━━━━━━━\u001b[0m\u001b[37m\u001b[0m \u001b[1m1s\u001b[0m 6ms/step - loss: 2.0631e-05 - mse: 2.0631e-05 - val_loss: 4.3013e-04 - val_mse: 4.3013e-04\n",
            "Epoch 29/70\n",
            "\u001b[1m201/201\u001b[0m \u001b[32m━━━━━━━━━━━━━━━━━━━━\u001b[0m\u001b[37m\u001b[0m \u001b[1m1s\u001b[0m 6ms/step - loss: 1.6299e-05 - mse: 1.6299e-05 - val_loss: 4.4212e-04 - val_mse: 4.4212e-04\n",
            "Epoch 30/70\n",
            "\u001b[1m201/201\u001b[0m \u001b[32m━━━━━━━━━━━━━━━━━━━━\u001b[0m\u001b[37m\u001b[0m \u001b[1m1s\u001b[0m 6ms/step - loss: 1.4034e-05 - mse: 1.4034e-05 - val_loss: 3.7099e-04 - val_mse: 3.7099e-04\n",
            "Epoch 31/70\n",
            "\u001b[1m201/201\u001b[0m \u001b[32m━━━━━━━━━━━━━━━━━━━━\u001b[0m\u001b[37m\u001b[0m \u001b[1m1s\u001b[0m 6ms/step - loss: 1.6004e-05 - mse: 1.6004e-05 - val_loss: 3.7125e-04 - val_mse: 3.7125e-04\n",
            "Epoch 32/70\n",
            "\u001b[1m201/201\u001b[0m \u001b[32m━━━━━━━━━━━━━━━━━━━━\u001b[0m\u001b[37m\u001b[0m \u001b[1m1s\u001b[0m 6ms/step - loss: 1.9385e-05 - mse: 1.9385e-05 - val_loss: 5.1102e-04 - val_mse: 5.1102e-04\n",
            "Epoch 33/70\n",
            "\u001b[1m201/201\u001b[0m \u001b[32m━━━━━━━━━━━━━━━━━━━━\u001b[0m\u001b[37m\u001b[0m \u001b[1m1s\u001b[0m 6ms/step - loss: 1.8695e-05 - mse: 1.8695e-05 - val_loss: 4.5130e-04 - val_mse: 4.5130e-04\n",
            "Epoch 34/70\n",
            "\u001b[1m201/201\u001b[0m \u001b[32m━━━━━━━━━━━━━━━━━━━━\u001b[0m\u001b[37m\u001b[0m \u001b[1m2s\u001b[0m 9ms/step - loss: 1.7128e-05 - mse: 1.7128e-05 - val_loss: 5.1037e-04 - val_mse: 5.1037e-04\n",
            "Epoch 35/70\n",
            "\u001b[1m201/201\u001b[0m \u001b[32m━━━━━━━━━━━━━━━━━━━━\u001b[0m\u001b[37m\u001b[0m \u001b[1m2s\u001b[0m 8ms/step - loss: 1.5174e-05 - mse: 1.5174e-05 - val_loss: 6.4159e-04 - val_mse: 6.4159e-04\n",
            "Epoch 36/70\n",
            "\u001b[1m201/201\u001b[0m \u001b[32m━━━━━━━━━━━━━━━━━━━━\u001b[0m\u001b[37m\u001b[0m \u001b[1m1s\u001b[0m 6ms/step - loss: 1.6704e-05 - mse: 1.6704e-05 - val_loss: 3.3293e-04 - val_mse: 3.3293e-04\n",
            "Epoch 37/70\n",
            "\u001b[1m201/201\u001b[0m \u001b[32m━━━━━━━━━━━━━━━━━━━━\u001b[0m\u001b[37m\u001b[0m \u001b[1m1s\u001b[0m 6ms/step - loss: 1.3514e-05 - mse: 1.3514e-05 - val_loss: 6.9168e-04 - val_mse: 6.9168e-04\n",
            "Epoch 38/70\n",
            "\u001b[1m201/201\u001b[0m \u001b[32m━━━━━━━━━━━━━━━━━━━━\u001b[0m\u001b[37m\u001b[0m \u001b[1m1s\u001b[0m 6ms/step - loss: 1.5746e-05 - mse: 1.5746e-05 - val_loss: 3.0116e-04 - val_mse: 3.0116e-04\n",
            "Epoch 39/70\n",
            "\u001b[1m201/201\u001b[0m \u001b[32m━━━━━━━━━━━━━━━━━━━━\u001b[0m\u001b[37m\u001b[0m \u001b[1m1s\u001b[0m 6ms/step - loss: 1.4337e-05 - mse: 1.4337e-05 - val_loss: 3.4346e-04 - val_mse: 3.4346e-04\n",
            "Epoch 40/70\n",
            "\u001b[1m201/201\u001b[0m \u001b[32m━━━━━━━━━━━━━━━━━━━━\u001b[0m\u001b[37m\u001b[0m \u001b[1m1s\u001b[0m 6ms/step - loss: 1.4417e-05 - mse: 1.4417e-05 - val_loss: 5.7347e-04 - val_mse: 5.7347e-04\n",
            "Epoch 41/70\n",
            "\u001b[1m201/201\u001b[0m \u001b[32m━━━━━━━━━━━━━━━━━━━━\u001b[0m\u001b[37m\u001b[0m \u001b[1m1s\u001b[0m 6ms/step - loss: 1.5472e-05 - mse: 1.5472e-05 - val_loss: 5.2362e-04 - val_mse: 5.2362e-04\n",
            "Epoch 42/70\n",
            "\u001b[1m201/201\u001b[0m \u001b[32m━━━━━━━━━━━━━━━━━━━━\u001b[0m\u001b[37m\u001b[0m \u001b[1m1s\u001b[0m 5ms/step - loss: 1.4213e-05 - mse: 1.4213e-05 - val_loss: 4.4011e-04 - val_mse: 4.4011e-04\n",
            "Epoch 43/70\n",
            "\u001b[1m201/201\u001b[0m \u001b[32m━━━━━━━━━━━━━━━━━━━━\u001b[0m\u001b[37m\u001b[0m \u001b[1m1s\u001b[0m 6ms/step - loss: 1.0933e-05 - mse: 1.0933e-05 - val_loss: 4.9390e-04 - val_mse: 4.9390e-04\n",
            "Epoch 44/70\n",
            "\u001b[1m201/201\u001b[0m \u001b[32m━━━━━━━━━━━━━━━━━━━━\u001b[0m\u001b[37m\u001b[0m \u001b[1m2s\u001b[0m 9ms/step - loss: 1.2354e-05 - mse: 1.2354e-05 - val_loss: 3.8559e-04 - val_mse: 3.8559e-04\n",
            "Epoch 45/70\n",
            "\u001b[1m201/201\u001b[0m \u001b[32m━━━━━━━━━━━━━━━━━━━━\u001b[0m\u001b[37m\u001b[0m \u001b[1m1s\u001b[0m 7ms/step - loss: 1.6249e-05 - mse: 1.6249e-05 - val_loss: 3.5411e-04 - val_mse: 3.5411e-04\n",
            "Epoch 46/70\n",
            "\u001b[1m201/201\u001b[0m \u001b[32m━━━━━━━━━━━━━━━━━━━━\u001b[0m\u001b[37m\u001b[0m \u001b[1m1s\u001b[0m 6ms/step - loss: 1.1235e-05 - mse: 1.1235e-05 - val_loss: 3.7657e-04 - val_mse: 3.7657e-04\n",
            "Epoch 47/70\n",
            "\u001b[1m201/201\u001b[0m \u001b[32m━━━━━━━━━━━━━━━━━━━━\u001b[0m\u001b[37m\u001b[0m \u001b[1m1s\u001b[0m 6ms/step - loss: 1.2218e-05 - mse: 1.2218e-05 - val_loss: 2.7809e-04 - val_mse: 2.7809e-04\n",
            "Epoch 48/70\n",
            "\u001b[1m201/201\u001b[0m \u001b[32m━━━━━━━━━━━━━━━━━━━━\u001b[0m\u001b[37m\u001b[0m \u001b[1m1s\u001b[0m 6ms/step - loss: 1.8384e-05 - mse: 1.8384e-05 - val_loss: 6.4682e-04 - val_mse: 6.4682e-04\n",
            "Epoch 49/70\n",
            "\u001b[1m201/201\u001b[0m \u001b[32m━━━━━━━━━━━━━━━━━━━━\u001b[0m\u001b[37m\u001b[0m \u001b[1m1s\u001b[0m 6ms/step - loss: 1.4071e-05 - mse: 1.4071e-05 - val_loss: 4.4211e-04 - val_mse: 4.4211e-04\n",
            "Epoch 50/70\n",
            "\u001b[1m201/201\u001b[0m \u001b[32m━━━━━━━━━━━━━━━━━━━━\u001b[0m\u001b[37m\u001b[0m \u001b[1m1s\u001b[0m 6ms/step - loss: 1.5011e-05 - mse: 1.5011e-05 - val_loss: 3.9312e-04 - val_mse: 3.9312e-04\n",
            "Epoch 51/70\n",
            "\u001b[1m201/201\u001b[0m \u001b[32m━━━━━━━━━━━━━━━━━━━━\u001b[0m\u001b[37m\u001b[0m \u001b[1m1s\u001b[0m 6ms/step - loss: 1.1865e-05 - mse: 1.1865e-05 - val_loss: 3.4209e-04 - val_mse: 3.4209e-04\n",
            "Epoch 52/70\n",
            "\u001b[1m201/201\u001b[0m \u001b[32m━━━━━━━━━━━━━━━━━━━━\u001b[0m\u001b[37m\u001b[0m \u001b[1m1s\u001b[0m 6ms/step - loss: 1.6099e-05 - mse: 1.6099e-05 - val_loss: 7.2516e-04 - val_mse: 7.2516e-04\n",
            "Epoch 53/70\n",
            "\u001b[1m201/201\u001b[0m \u001b[32m━━━━━━━━━━━━━━━━━━━━\u001b[0m\u001b[37m\u001b[0m \u001b[1m2s\u001b[0m 7ms/step - loss: 1.6125e-05 - mse: 1.6125e-05 - val_loss: 2.7494e-04 - val_mse: 2.7494e-04\n",
            "Epoch 54/70\n",
            "\u001b[1m201/201\u001b[0m \u001b[32m━━━━━━━━━━━━━━━━━━━━\u001b[0m\u001b[37m\u001b[0m \u001b[1m2s\u001b[0m 6ms/step - loss: 1.2377e-05 - mse: 1.2377e-05 - val_loss: 2.6859e-04 - val_mse: 2.6859e-04\n",
            "Epoch 55/70\n",
            "\u001b[1m201/201\u001b[0m \u001b[32m━━━━━━━━━━━━━━━━━━━━\u001b[0m\u001b[37m\u001b[0m \u001b[1m1s\u001b[0m 6ms/step - loss: 1.2019e-05 - mse: 1.2019e-05 - val_loss: 7.3265e-04 - val_mse: 7.3265e-04\n",
            "Epoch 56/70\n",
            "\u001b[1m201/201\u001b[0m \u001b[32m━━━━━━━━━━━━━━━━━━━━\u001b[0m\u001b[37m\u001b[0m \u001b[1m1s\u001b[0m 6ms/step - loss: 1.2951e-05 - mse: 1.2951e-05 - val_loss: 5.0714e-04 - val_mse: 5.0714e-04\n",
            "Epoch 57/70\n",
            "\u001b[1m201/201\u001b[0m \u001b[32m━━━━━━━━━━━━━━━━━━━━\u001b[0m\u001b[37m\u001b[0m \u001b[1m1s\u001b[0m 6ms/step - loss: 1.4063e-05 - mse: 1.4063e-05 - val_loss: 4.1834e-04 - val_mse: 4.1834e-04\n",
            "Epoch 58/70\n",
            "\u001b[1m201/201\u001b[0m \u001b[32m━━━━━━━━━━━━━━━━━━━━\u001b[0m\u001b[37m\u001b[0m \u001b[1m1s\u001b[0m 6ms/step - loss: 1.1724e-05 - mse: 1.1724e-05 - val_loss: 4.1303e-04 - val_mse: 4.1303e-04\n",
            "Epoch 59/70\n",
            "\u001b[1m201/201\u001b[0m \u001b[32m━━━━━━━━━━━━━━━━━━━━\u001b[0m\u001b[37m\u001b[0m \u001b[1m1s\u001b[0m 6ms/step - loss: 1.2560e-05 - mse: 1.2560e-05 - val_loss: 0.0017 - val_mse: 0.0017\n",
            "Epoch 60/70\n",
            "\u001b[1m201/201\u001b[0m \u001b[32m━━━━━━━━━━━━━━━━━━━━\u001b[0m\u001b[37m\u001b[0m \u001b[1m1s\u001b[0m 6ms/step - loss: 1.6059e-05 - mse: 1.6059e-05 - val_loss: 9.3313e-04 - val_mse: 9.3313e-04\n",
            "Epoch 61/70\n",
            "\u001b[1m201/201\u001b[0m \u001b[32m━━━━━━━━━━━━━━━━━━━━\u001b[0m\u001b[37m\u001b[0m \u001b[1m1s\u001b[0m 6ms/step - loss: 1.0769e-05 - mse: 1.0769e-05 - val_loss: 8.8320e-04 - val_mse: 8.8320e-04\n",
            "Epoch 62/70\n",
            "\u001b[1m201/201\u001b[0m \u001b[32m━━━━━━━━━━━━━━━━━━━━\u001b[0m\u001b[37m\u001b[0m \u001b[1m2s\u001b[0m 8ms/step - loss: 1.1232e-05 - mse: 1.1232e-05 - val_loss: 5.5396e-04 - val_mse: 5.5396e-04\n",
            "Epoch 63/70\n",
            "\u001b[1m201/201\u001b[0m \u001b[32m━━━━━━━━━━━━━━━━━━━━\u001b[0m\u001b[37m\u001b[0m \u001b[1m2s\u001b[0m 5ms/step - loss: 1.4961e-05 - mse: 1.4961e-05 - val_loss: 6.4282e-04 - val_mse: 6.4282e-04\n",
            "Epoch 64/70\n",
            "\u001b[1m201/201\u001b[0m \u001b[32m━━━━━━━━━━━━━━━━━━━━\u001b[0m\u001b[37m\u001b[0m \u001b[1m1s\u001b[0m 5ms/step - loss: 1.0736e-05 - mse: 1.0736e-05 - val_loss: 7.6703e-04 - val_mse: 7.6703e-04\n",
            "Epoch 65/70\n",
            "\u001b[1m201/201\u001b[0m \u001b[32m━━━━━━━━━━━━━━━━━━━━\u001b[0m\u001b[37m\u001b[0m \u001b[1m1s\u001b[0m 5ms/step - loss: 1.2848e-05 - mse: 1.2848e-05 - val_loss: 5.4242e-04 - val_mse: 5.4242e-04\n",
            "Epoch 66/70\n",
            "\u001b[1m201/201\u001b[0m \u001b[32m━━━━━━━━━━━━━━━━━━━━\u001b[0m\u001b[37m\u001b[0m \u001b[1m1s\u001b[0m 5ms/step - loss: 1.3008e-05 - mse: 1.3008e-05 - val_loss: 5.9481e-04 - val_mse: 5.9481e-04\n",
            "Epoch 67/70\n",
            "\u001b[1m201/201\u001b[0m \u001b[32m━━━━━━━━━━━━━━━━━━━━\u001b[0m\u001b[37m\u001b[0m \u001b[1m1s\u001b[0m 5ms/step - loss: 1.2086e-05 - mse: 1.2086e-05 - val_loss: 7.7109e-04 - val_mse: 7.7109e-04\n",
            "Epoch 68/70\n",
            "\u001b[1m201/201\u001b[0m \u001b[32m━━━━━━━━━━━━━━━━━━━━\u001b[0m\u001b[37m\u001b[0m \u001b[1m1s\u001b[0m 5ms/step - loss: 1.6311e-05 - mse: 1.6311e-05 - val_loss: 6.3130e-04 - val_mse: 6.3130e-04\n",
            "Epoch 69/70\n",
            "\u001b[1m201/201\u001b[0m \u001b[32m━━━━━━━━━━━━━━━━━━━━\u001b[0m\u001b[37m\u001b[0m \u001b[1m1s\u001b[0m 5ms/step - loss: 1.4574e-05 - mse: 1.4574e-05 - val_loss: 5.3833e-04 - val_mse: 5.3833e-04\n",
            "Epoch 70/70\n",
            "\u001b[1m201/201\u001b[0m \u001b[32m━━━━━━━━━━━━━━━━━━━━\u001b[0m\u001b[37m\u001b[0m \u001b[1m1s\u001b[0m 5ms/step - loss: 1.2871e-05 - mse: 1.2871e-05 - val_loss: 9.4218e-04 - val_mse: 9.4218e-04\n"
          ]
        }
      ]
    },
    {
      "cell_type": "markdown",
      "id": "4a40955c-41ec-4ffb-a98e-b1dc56c77b8e",
      "metadata": {
        "id": "4a40955c-41ec-4ffb-a98e-b1dc56c77b8e"
      },
      "source": [
        "## Evaluating a model"
      ]
    },
    {
      "cell_type": "code",
      "execution_count": 154,
      "id": "224d192a-7e9e-4416-a80a-acae88e9d048",
      "metadata": {
        "colab": {
          "base_uri": "https://localhost:8080/"
        },
        "id": "224d192a-7e9e-4416-a80a-acae88e9d048",
        "outputId": "9c2b82f2-17bb-466c-bd57-27a6bc5671ff"
      },
      "outputs": [
        {
          "output_type": "stream",
          "name": "stdout",
          "text": [
            "\u001b[1m50/50\u001b[0m \u001b[32m━━━━━━━━━━━━━━━━━━━━\u001b[0m\u001b[37m\u001b[0m \u001b[1m0s\u001b[0m 3ms/step - loss: 5.3300e-04 - mse: 5.3300e-04\n"
          ]
        },
        {
          "output_type": "execute_result",
          "data": {
            "text/plain": [
              "[0.0009421823779121041, 0.0009421823779121041]"
            ]
          },
          "metadata": {},
          "execution_count": 154
        }
      ],
      "source": [
        "model1.evaluate(X_test, y_test)"
      ]
    },
    {
      "cell_type": "code",
      "execution_count": 155,
      "id": "d687df73-1198-48b7-80b3-05bcb59ea4d6",
      "metadata": {
        "colab": {
          "base_uri": "https://localhost:8080/"
        },
        "id": "d687df73-1198-48b7-80b3-05bcb59ea4d6",
        "outputId": "0dc54115-3bab-4302-8d38-7f7e68562d4c"
      },
      "outputs": [
        {
          "output_type": "stream",
          "name": "stdout",
          "text": [
            "\u001b[1m50/50\u001b[0m \u001b[32m━━━━━━━━━━━━━━━━━━━━\u001b[0m\u001b[37m\u001b[0m \u001b[1m1s\u001b[0m 4ms/step - loss: 1.9333e-04 - mse: 1.9333e-04\n"
          ]
        },
        {
          "output_type": "execute_result",
          "data": {
            "text/plain": [
              "[0.0002685914223548025, 0.0002685914223548025]"
            ]
          },
          "metadata": {},
          "execution_count": 155
        }
      ],
      "source": [
        "# lets get the best performing stored model in the modelling experiments folder\n",
        "model1 = tf.keras.models.load_model('model_experiments/Simple_LSTM_model.keras')\n",
        "model1.evaluate(X_test, y_test)"
      ]
    },
    {
      "cell_type": "code",
      "execution_count": 156,
      "id": "cd915da2-522f-4d34-b1ee-e78b36c38cfd",
      "metadata": {
        "colab": {
          "base_uri": "https://localhost:8080/"
        },
        "id": "cd915da2-522f-4d34-b1ee-e78b36c38cfd",
        "outputId": "b0a370ae-c372-4284-cfe4-96ecd55cee55"
      },
      "outputs": [
        {
          "output_type": "stream",
          "name": "stdout",
          "text": [
            "\u001b[1m201/201\u001b[0m \u001b[32m━━━━━━━━━━━━━━━━━━━━\u001b[0m\u001b[37m\u001b[0m \u001b[1m1s\u001b[0m 4ms/step - loss: 3.6009e-06 - mse: 3.6009e-06\n"
          ]
        },
        {
          "output_type": "execute_result",
          "data": {
            "text/plain": [
              "[1.1927136256417725e-05, 1.1927136256417725e-05]"
            ]
          },
          "metadata": {},
          "execution_count": 156
        }
      ],
      "source": [
        "model1.evaluate(X_train, y_train)"
      ]
    },
    {
      "cell_type": "code",
      "execution_count": 157,
      "id": "f73ffc10-6df1-434c-a8e1-6ea4b06b3818",
      "metadata": {
        "colab": {
          "base_uri": "https://localhost:8080/"
        },
        "id": "f73ffc10-6df1-434c-a8e1-6ea4b06b3818",
        "outputId": "849e0a8d-2cf8-426b-92a2-ceb02b96f000"
      },
      "outputs": [
        {
          "output_type": "stream",
          "name": "stdout",
          "text": [
            "\u001b[1m50/50\u001b[0m \u001b[32m━━━━━━━━━━━━━━━━━━━━\u001b[0m\u001b[37m\u001b[0m \u001b[1m1s\u001b[0m 3ms/step\n"
          ]
        },
        {
          "output_type": "execute_result",
          "data": {
            "text/plain": [
              "<tf.Tensor: shape=(5,), dtype=float32, numpy=\n",
              "array([0.4674493 , 0.46997038, 0.47215584, 0.4736685 , 0.47589335],\n",
              "      dtype=float32)>"
            ]
          },
          "metadata": {},
          "execution_count": 157
        }
      ],
      "source": [
        "y_preds = tf.squeeze(model1.predict(X_test))\n",
        "y_preds[:5]"
      ]
    },
    {
      "cell_type": "code",
      "execution_count": 158,
      "id": "385364c0-fb74-461d-8d8c-0c7bab87192d",
      "metadata": {
        "colab": {
          "base_uri": "https://localhost:8080/"
        },
        "id": "385364c0-fb74-461d-8d8c-0c7bab87192d",
        "outputId": "9fcc0249-d552-4abe-aae3-436e0176010b"
      },
      "outputs": [
        {
          "output_type": "stream",
          "name": "stdout",
          "text": [
            "\n",
            "MAE : 0.011942765675485134\n",
            "MSE : 0.0002685914223548025\n",
            "RMSE : 0.01638875901699066\n",
            "MAPE : 1.7306222915649414\n",
            "R2 Score : 0.9870320558547974\n"
          ]
        }
      ],
      "source": [
        "from sklearn.metrics import r2_score\n",
        "import tensorflow as tf # Import tensorflow to use its metrics\n",
        "\n",
        "# Make sure float32 (for metric calculations)\n",
        "y_test = tf.cast(y_test, dtype=tf.float32)\n",
        "y_preds = tf.cast(y_preds, dtype=tf.float32)\n",
        "\n",
        "# Calculate various metrics\n",
        "mae_metric = tf.keras.metrics.MeanAbsoluteError()\n",
        "mae_metric.update_state(y_test, y_preds)\n",
        "mae = mae_metric.result()\n",
        "\n",
        "mse_metric = tf.keras.metrics.MeanSquaredError()\n",
        "mse_metric.update_state(y_test, y_preds)\n",
        "mse = mse_metric.result() # puts and emphasis on outliers (all errors get squared)\n",
        "\n",
        "rmse = tf.sqrt(mse)\n",
        "\n",
        "mape_metric = tf.keras.metrics.MeanAbsolutePercentageError()\n",
        "mape_metric.update_state(y_test, y_preds)\n",
        "mape = mape_metric.result()\n",
        "\n",
        "r2 = r2_score(y_test.numpy(), y_preds.numpy())\n",
        "\n",
        "print(f\"\"\"\n",
        "MAE : {mae.numpy()}\n",
        "MSE : {mse.numpy()}\n",
        "RMSE : {rmse.numpy()}\n",
        "MAPE : {mape.numpy()}\n",
        "R2 Score : {r2}\"\"\")"
      ]
    },
    {
      "cell_type": "code",
      "execution_count": 159,
      "id": "689b3f8b-30ba-4c24-9339-27bd3dbb6e14",
      "metadata": {
        "colab": {
          "base_uri": "https://localhost:8080/",
          "height": 447
        },
        "id": "689b3f8b-30ba-4c24-9339-27bd3dbb6e14",
        "outputId": "e58adb95-f8b4-4849-b031-696160293da2"
      },
      "outputs": [
        {
          "output_type": "execute_result",
          "data": {
            "text/plain": [
              "<Axes: >"
            ]
          },
          "metadata": {},
          "execution_count": 159
        },
        {
          "output_type": "display_data",
          "data": {
            "text/plain": [
              "<Figure size 640x480 with 1 Axes>"
            ],
            "image/png": "[encoded data removed]"
          },
          "metadata": {}
        }
      ],
      "source": [
        "pd.DataFrame(history1.history).plot()"
      ]
    },
    {
      "cell_type": "markdown",
      "id": "f30cad3d-33af-4423-b21c-8f9e1e6ede36",
      "metadata": {
        "id": "f30cad3d-33af-4423-b21c-8f9e1e6ede36"
      },
      "source": [
        "## Visualzing our predictions on Test Data"
      ]
    },
    {
      "cell_type": "code",
      "execution_count": 160,
      "id": "945a66ad-e103-421f-bba8-cec7bb0015f0",
      "metadata": {
        "colab": {
          "base_uri": "https://localhost:8080/",
          "height": 469
        },
        "id": "945a66ad-e103-421f-bba8-cec7bb0015f0",
        "outputId": "2ec3d351-feda-4e0c-e484-64c5101d5e42"
      },
      "outputs": [
        {
          "output_type": "execute_result",
          "data": {
            "text/plain": [
              "Text(0.5, 1.0, 'Test Data vs. Predictions')"
            ]
          },
          "metadata": {},
          "execution_count": 160
        },
        {
          "output_type": "display_data",
          "data": {
            "text/plain": [
              "<Figure size 640x480 with 1 Axes>"
            ],
            "image/png": "[encoded data removed]"
          },
          "metadata": {}
        }
      ],
      "source": [
        "plt.plot(test_data[7:len(X)-(7+1)])\n",
        "plt.plot(y_preds)\n",
        "plt.title('Test Data vs. Predictions')"
      ]
    },
    {
      "cell_type": "markdown",
      "id": "fdfba105-c690-41a1-86f9-4347afeb0ea9",
      "metadata": {
        "id": "fdfba105-c690-41a1-86f9-4347afeb0ea9"
      },
      "source": [
        "## Future Predictions of best model"
      ]
    },
    {
      "cell_type": "code",
      "execution_count": 161,
      "id": "4e02f753-e823-49eb-a47a-f9819bf792ed",
      "metadata": {
        "id": "4e02f753-e823-49eb-a47a-f9819bf792ed"
      },
      "outputs": [],
      "source": [
        "import datetime\n",
        "\n",
        "def future_prediction(data, days=30):\n",
        "    model_inputs = data[-1]\n",
        "    predictions = []\n",
        "\n",
        "    for i in range(days):\n",
        "        y_pred = model1.predict(tf.expand_dims(model_inputs, axis=0))\n",
        "        model_inputs[:, :-1] = model_inputs[:, 1:]\n",
        "        model_inputs[:, -1] = y_pred\n",
        "        y_pred = tf.squeeze(scaler.inverse_transform(y_pred))\n",
        "        predictions.append(y_pred)\n",
        "\n",
        "    predictions = np.array(predictions)\n",
        "    return predictions"
      ]
    },
    {
      "cell_type": "code",
      "execution_count": 162,
      "id": "ac7ed59f-f66b-4985-9959-1cae002b9793",
      "metadata": {
        "colab": {
          "base_uri": "https://localhost:8080/"
        },
        "id": "ac7ed59f-f66b-4985-9959-1cae002b9793",
        "outputId": "fd919a5c-70f3-4001-e52a-29060638700e"
      },
      "outputs": [
        {
          "output_type": "stream",
          "name": "stdout",
          "text": [
            "\u001b[1m1/1\u001b[0m \u001b[32m━━━━━━━━━━━━━━━━━━━━\u001b[0m\u001b[37m\u001b[0m \u001b[1m0s\u001b[0m 328ms/step\n",
            "\u001b[1m1/1\u001b[0m \u001b[32m━━━━━━━━━━━━━━━━━━━━\u001b[0m\u001b[37m\u001b[0m \u001b[1m0s\u001b[0m 44ms/step\n",
            "\u001b[1m1/1\u001b[0m \u001b[32m━━━━━━━━━━━━━━━━━━━━\u001b[0m\u001b[37m\u001b[0m \u001b[1m0s\u001b[0m 40ms/step\n",
            "\u001b[1m1/1\u001b[0m \u001b[32m━━━━━━━━━━━━━━━━━━━━\u001b[0m\u001b[37m\u001b[0m \u001b[1m0s\u001b[0m 40ms/step\n",
            "\u001b[1m1/1\u001b[0m \u001b[32m━━━━━━━━━━━━━━━━━━━━\u001b[0m\u001b[37m\u001b[0m \u001b[1m0s\u001b[0m 38ms/step\n",
            "\u001b[1m1/1\u001b[0m \u001b[32m━━━━━━━━━━━━━━━━━━━━\u001b[0m\u001b[37m\u001b[0m \u001b[1m0s\u001b[0m 37ms/step\n",
            "\u001b[1m1/1\u001b[0m \u001b[32m━━━━━━━━━━━━━━━━━━━━\u001b[0m\u001b[37m\u001b[0m \u001b[1m0s\u001b[0m 39ms/step\n",
            "\u001b[1m1/1\u001b[0m \u001b[32m━━━━━━━━━━━━━━━━━━━━\u001b[0m\u001b[37m\u001b[0m \u001b[1m0s\u001b[0m 38ms/step\n",
            "\u001b[1m1/1\u001b[0m \u001b[32m━━━━━━━━━━━━━━━━━━━━\u001b[0m\u001b[37m\u001b[0m \u001b[1m0s\u001b[0m 36ms/step\n",
            "\u001b[1m1/1\u001b[0m \u001b[32m━━━━━━━━━━━━━━━━━━━━\u001b[0m\u001b[37m\u001b[0m \u001b[1m0s\u001b[0m 38ms/step\n",
            "\u001b[1m1/1\u001b[0m \u001b[32m━━━━━━━━━━━━━━━━━━━━\u001b[0m\u001b[37m\u001b[0m \u001b[1m0s\u001b[0m 37ms/step\n",
            "\u001b[1m1/1\u001b[0m \u001b[32m━━━━━━━━━━━━━━━━━━━━\u001b[0m\u001b[37m\u001b[0m \u001b[1m0s\u001b[0m 37ms/step\n",
            "\u001b[1m1/1\u001b[0m \u001b[32m━━━━━━━━━━━━━━━━━━━━\u001b[0m\u001b[37m\u001b[0m \u001b[1m0s\u001b[0m 40ms/step\n",
            "\u001b[1m1/1\u001b[0m \u001b[32m━━━━━━━━━━━━━━━━━━━━\u001b[0m\u001b[37m\u001b[0m \u001b[1m0s\u001b[0m 41ms/step\n",
            "\u001b[1m1/1\u001b[0m \u001b[32m━━━━━━━━━━━━━━━━━━━━\u001b[0m\u001b[37m\u001b[0m \u001b[1m0s\u001b[0m 37ms/step\n",
            "\u001b[1m1/1\u001b[0m \u001b[32m━━━━━━━━━━━━━━━━━━━━\u001b[0m\u001b[37m\u001b[0m \u001b[1m0s\u001b[0m 39ms/step\n",
            "\u001b[1m1/1\u001b[0m \u001b[32m━━━━━━━━━━━━━━━━━━━━\u001b[0m\u001b[37m\u001b[0m \u001b[1m0s\u001b[0m 36ms/step\n",
            "\u001b[1m1/1\u001b[0m \u001b[32m━━━━━━━━━━━━━━━━━━━━\u001b[0m\u001b[37m\u001b[0m \u001b[1m0s\u001b[0m 38ms/step\n",
            "\u001b[1m1/1\u001b[0m \u001b[32m━━━━━━━━━━━━━━━━━━━━\u001b[0m\u001b[37m\u001b[0m \u001b[1m0s\u001b[0m 37ms/step\n",
            "\u001b[1m1/1\u001b[0m \u001b[32m━━━━━━━━━━━━━━━━━━━━\u001b[0m\u001b[37m\u001b[0m \u001b[1m0s\u001b[0m 37ms/step\n",
            "\u001b[1m1/1\u001b[0m \u001b[32m━━━━━━━━━━━━━━━━━━━━\u001b[0m\u001b[37m\u001b[0m \u001b[1m0s\u001b[0m 37ms/step\n",
            "\u001b[1m1/1\u001b[0m \u001b[32m━━━━━━━━━━━━━━━━━━━━\u001b[0m\u001b[37m\u001b[0m \u001b[1m0s\u001b[0m 36ms/step\n",
            "\u001b[1m1/1\u001b[0m \u001b[32m━━━━━━━━━━━━━━━━━━━━\u001b[0m\u001b[37m\u001b[0m \u001b[1m0s\u001b[0m 40ms/step\n",
            "\u001b[1m1/1\u001b[0m \u001b[32m━━━━━━━━━━━━━━━━━━━━\u001b[0m\u001b[37m\u001b[0m \u001b[1m0s\u001b[0m 42ms/step\n",
            "\u001b[1m1/1\u001b[0m \u001b[32m━━━━━━━━━━━━━━━━━━━━\u001b[0m\u001b[37m\u001b[0m \u001b[1m0s\u001b[0m 47ms/step\n",
            "\u001b[1m1/1\u001b[0m \u001b[32m━━━━━━━━━━━━━━━━━━━━\u001b[0m\u001b[37m\u001b[0m \u001b[1m0s\u001b[0m 38ms/step\n",
            "\u001b[1m1/1\u001b[0m \u001b[32m━━━━━━━━━━━━━━━━━━━━\u001b[0m\u001b[37m\u001b[0m \u001b[1m0s\u001b[0m 38ms/step\n",
            "\u001b[1m1/1\u001b[0m \u001b[32m━━━━━━━━━━━━━━━━━━━━\u001b[0m\u001b[37m\u001b[0m \u001b[1m0s\u001b[0m 42ms/step\n",
            "\u001b[1m1/1\u001b[0m \u001b[32m━━━━━━━━━━━━━━━━━━━━\u001b[0m\u001b[37m\u001b[0m \u001b[1m0s\u001b[0m 37ms/step\n",
            "\u001b[1m1/1\u001b[0m \u001b[32m━━━━━━━━━━━━━━━━━━━━\u001b[0m\u001b[37m\u001b[0m \u001b[1m0s\u001b[0m 37ms/step\n"
          ]
        }
      ],
      "source": [
        "predictions = future_prediction(X_test, 30)"
      ]
    },
    {
      "cell_type": "code",
      "execution_count": 163,
      "id": "4945bf77-06b8-4cf0-85a4-05dcf77ca70f",
      "metadata": {
        "id": "4945bf77-06b8-4cf0-85a4-05dcf77ca70f"
      },
      "outputs": [],
      "source": [
        "# making a date array (required when plotting)\n",
        "today = np.datetime64(datetime.date.today())\n",
        "date_array = today + np.arange(30)"
      ]
    },
    {
      "cell_type": "code",
      "execution_count": 168,
      "id": "3b94241e-b44d-4ffd-9d71-a4feafb0458d",
      "metadata": {
        "colab": {
          "base_uri": "https://localhost:8080/"
        },
        "id": "3b94241e-b44d-4ffd-9d71-a4feafb0458d",
        "outputId": "863b20a3-2277-40f1-bba9-4d9dabb90550"
      },
      "outputs": [
        {
          "output_type": "execute_result",
          "data": {
            "text/plain": [
              "array([76.73113 , 76.32407 , 75.90794 , 75.19143 , 74.51897 , 73.832924,\n",
              "       73.18633 , 72.511314, 71.82577 , 71.15972 , 70.50143 , 69.85053 ,\n",
              "       69.20709 , 68.57595 , 67.95811 , 67.351204, 66.750786, 66.15712 ,\n",
              "       65.568344, 64.986465, 64.41173 , 63.844513, 63.28559 , 62.735653,\n",
              "       62.195404, 61.665375, 61.1461  , 60.638096, 60.141773, 59.657482],\n",
              "      dtype=float32)"
            ]
          },
          "metadata": {},
          "execution_count": 168
        }
      ],
      "source": [
        "predictions"
      ]
    },
    {
      "cell_type": "markdown",
      "id": "2768305a-3a9f-48f2-86f4-a74c13a9f7ed",
      "metadata": {
        "id": "2768305a-3a9f-48f2-86f4-a74c13a9f7ed"
      },
      "source": [
        "## Saving the model"
      ]
    },
    {
      "cell_type": "code",
      "execution_count": 167,
      "id": "bac7f9c8-665d-4eeb-b68b-300096e9be68",
      "metadata": {
        "colab": {
          "base_uri": "https://localhost:8080/"
        },
        "id": "bac7f9c8-665d-4eeb-b68b-300096e9be68",
        "outputId": "d84158e6-d729-48f4-e40d-67d596215e71"
      },
      "outputs": [
        {
          "output_type": "stream",
          "name": "stderr",
          "text": [
            "WARNING:absl:You are saving your model as an HDF5 file via `model.save()` or `keras.saving.save_model(model)`. This file format is considered legacy. We recommend using instead the native Keras format, e.g. `model.save('my_model.keras')` or `keras.saving.save_model(model, 'my_model.keras')`. \n"
          ]
        }
      ],
      "source": [
        "model1.save('Starbucks_lstm_model.h5')"
      ]
    },
    {
      "cell_type": "code",
      "execution_count": 165,
      "id": "d0533aec-b255-4783-9205-b473c981627c",
      "metadata": {
        "colab": {
          "base_uri": "https://localhost:8080/",
          "height": 447
        },
        "id": "d0533aec-b255-4783-9205-b473c981627c",
        "outputId": "ed5d394e-6db8-480a-ef8c-32fc23b829cd"
      },
      "outputs": [
        {
          "output_type": "execute_result",
          "data": {
            "text/plain": [
              "[<matplotlib.lines.Line2D at 0x7956b7c7a240>]"
            ]
          },
          "metadata": {},
          "execution_count": 165
        },
        {
          "output_type": "display_data",
          "data": {
            "text/plain": [
              "<Figure size 640x480 with 1 Axes>"
            ],
            "image/png": "[encoded data removed]"
          },
          "metadata": {}
        }
      ],
      "source": [
        "plt.plot(df['Date'][int(len(X_scaled)*0.8):], tf.squeeze(scaler.inverse_transform(test_data)))\n",
        "plt.plot(date_array, predictions)"
      ]
    }
  ],
  "metadata": {
    "kernelspec": {
      "display_name": "Python 3 (ipykernel)",
      "language": "python",
      "name": "python3"
    },
    "language_info": {
      "codemirror_mode": {
        "name": "ipython",
        "version": 3
      },
      "file_extension": ".py",
      "mimetype": "text/x-python",
      "name": "python",
      "nbconvert_exporter": "python",
      "pygments_lexer": "ipython3",
      "version": "3.10.9"
    },
    "colab": {
      "provenance": []
    }
  },
  "nbformat": 4,
  "nbformat_minor": 5
}